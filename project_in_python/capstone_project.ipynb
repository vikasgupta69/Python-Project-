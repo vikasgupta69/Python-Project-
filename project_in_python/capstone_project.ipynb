{
 "cells": [
  {
   "cell_type": "code",
   "execution_count": 9,
   "id": "c4ad099a-ce9a-4f15-a57f-d2685dc3d4cf",
   "metadata": {},
   "outputs": [],
   "source": [
    "import numpy as np\n",
    "import pandas as pd\n",
    "import matplotlib.pyplot as plt\n",
    "import seaborn as sns"
   ]
  },
  {
   "cell_type": "code",
   "execution_count": 10,
   "id": "2f1d73f4-c072-47f4-be25-502d215b8a71",
   "metadata": {},
   "outputs": [],
   "source": [
    "df=pd.read_csv(r'C:\\Users\\RAHUL\\Downloads\\Capstone Project/supermarket_sales.csv')"
   ]
  },
  {
   "cell_type": "code",
   "execution_count": 11,
   "id": "bbfac763-1a3c-41a0-903d-aa4c4d8fd087",
   "metadata": {},
   "outputs": [
    {
     "data": {
      "text/plain": [
       "(1000, 17)"
      ]
     },
     "execution_count": 11,
     "metadata": {},
     "output_type": "execute_result"
    }
   ],
   "source": [
    "df.shape"
   ]
  },
  {
   "cell_type": "code",
   "execution_count": 12,
   "id": "c9a6a4bc-bf34-4f1b-85d8-609de45120b8",
   "metadata": {},
   "outputs": [
    {
     "data": {
      "text/html": [
       "<div>\n",
       "<style scoped>\n",
       "    .dataframe tbody tr th:only-of-type {\n",
       "        vertical-align: middle;\n",
       "    }\n",
       "\n",
       "    .dataframe tbody tr th {\n",
       "        vertical-align: top;\n",
       "    }\n",
       "\n",
       "    .dataframe thead th {\n",
       "        text-align: right;\n",
       "    }\n",
       "</style>\n",
       "<table border=\"1\" class=\"dataframe\">\n",
       "  <thead>\n",
       "    <tr style=\"text-align: right;\">\n",
       "      <th></th>\n",
       "      <th>Invoice ID</th>\n",
       "      <th>Branch</th>\n",
       "      <th>City</th>\n",
       "      <th>Customer type</th>\n",
       "      <th>Gender</th>\n",
       "      <th>Product line</th>\n",
       "      <th>Unit price</th>\n",
       "      <th>Quantity</th>\n",
       "      <th>Tax 5%</th>\n",
       "      <th>Total</th>\n",
       "      <th>Date</th>\n",
       "      <th>Time</th>\n",
       "      <th>Payment</th>\n",
       "      <th>cogs</th>\n",
       "      <th>gross margin percentage</th>\n",
       "      <th>gross income</th>\n",
       "      <th>Rating</th>\n",
       "    </tr>\n",
       "  </thead>\n",
       "  <tbody>\n",
       "    <tr>\n",
       "      <th>0</th>\n",
       "      <td>750-67-8428</td>\n",
       "      <td>A</td>\n",
       "      <td>Yangon</td>\n",
       "      <td>Member</td>\n",
       "      <td>Female</td>\n",
       "      <td>Health and beauty</td>\n",
       "      <td>74.69</td>\n",
       "      <td>7</td>\n",
       "      <td>26.1415</td>\n",
       "      <td>548.9715</td>\n",
       "      <td>1/5/2019</td>\n",
       "      <td>13:08</td>\n",
       "      <td>Ewallet</td>\n",
       "      <td>522.83</td>\n",
       "      <td>4.761905</td>\n",
       "      <td>26.1415</td>\n",
       "      <td>9.1</td>\n",
       "    </tr>\n",
       "    <tr>\n",
       "      <th>1</th>\n",
       "      <td>226-31-3081</td>\n",
       "      <td>C</td>\n",
       "      <td>Naypyitaw</td>\n",
       "      <td>Normal</td>\n",
       "      <td>Female</td>\n",
       "      <td>Electronic accessories</td>\n",
       "      <td>15.28</td>\n",
       "      <td>5</td>\n",
       "      <td>3.8200</td>\n",
       "      <td>80.2200</td>\n",
       "      <td>3/8/2019</td>\n",
       "      <td>10:29</td>\n",
       "      <td>Cash</td>\n",
       "      <td>76.40</td>\n",
       "      <td>4.761905</td>\n",
       "      <td>3.8200</td>\n",
       "      <td>9.6</td>\n",
       "    </tr>\n",
       "    <tr>\n",
       "      <th>2</th>\n",
       "      <td>631-41-3108</td>\n",
       "      <td>A</td>\n",
       "      <td>Yangon</td>\n",
       "      <td>Normal</td>\n",
       "      <td>Male</td>\n",
       "      <td>Home and lifestyle</td>\n",
       "      <td>46.33</td>\n",
       "      <td>7</td>\n",
       "      <td>16.2155</td>\n",
       "      <td>340.5255</td>\n",
       "      <td>3/3/2019</td>\n",
       "      <td>13:23</td>\n",
       "      <td>Credit card</td>\n",
       "      <td>324.31</td>\n",
       "      <td>4.761905</td>\n",
       "      <td>16.2155</td>\n",
       "      <td>7.4</td>\n",
       "    </tr>\n",
       "    <tr>\n",
       "      <th>3</th>\n",
       "      <td>123-19-1176</td>\n",
       "      <td>A</td>\n",
       "      <td>Yangon</td>\n",
       "      <td>Member</td>\n",
       "      <td>Male</td>\n",
       "      <td>Health and beauty</td>\n",
       "      <td>58.22</td>\n",
       "      <td>8</td>\n",
       "      <td>23.2880</td>\n",
       "      <td>489.0480</td>\n",
       "      <td>1/27/2019</td>\n",
       "      <td>20:33</td>\n",
       "      <td>Ewallet</td>\n",
       "      <td>465.76</td>\n",
       "      <td>4.761905</td>\n",
       "      <td>23.2880</td>\n",
       "      <td>8.4</td>\n",
       "    </tr>\n",
       "    <tr>\n",
       "      <th>4</th>\n",
       "      <td>373-73-7910</td>\n",
       "      <td>A</td>\n",
       "      <td>Yangon</td>\n",
       "      <td>Normal</td>\n",
       "      <td>Male</td>\n",
       "      <td>Sports and travel</td>\n",
       "      <td>86.31</td>\n",
       "      <td>7</td>\n",
       "      <td>30.2085</td>\n",
       "      <td>634.3785</td>\n",
       "      <td>2/8/2019</td>\n",
       "      <td>10:37</td>\n",
       "      <td>Ewallet</td>\n",
       "      <td>604.17</td>\n",
       "      <td>4.761905</td>\n",
       "      <td>30.2085</td>\n",
       "      <td>5.3</td>\n",
       "    </tr>\n",
       "  </tbody>\n",
       "</table>\n",
       "</div>"
      ],
      "text/plain": [
       "    Invoice ID Branch       City Customer type  Gender  \\\n",
       "0  750-67-8428      A     Yangon        Member  Female   \n",
       "1  226-31-3081      C  Naypyitaw        Normal  Female   \n",
       "2  631-41-3108      A     Yangon        Normal    Male   \n",
       "3  123-19-1176      A     Yangon        Member    Male   \n",
       "4  373-73-7910      A     Yangon        Normal    Male   \n",
       "\n",
       "             Product line  Unit price  Quantity   Tax 5%     Total       Date  \\\n",
       "0       Health and beauty       74.69         7  26.1415  548.9715   1/5/2019   \n",
       "1  Electronic accessories       15.28         5   3.8200   80.2200   3/8/2019   \n",
       "2      Home and lifestyle       46.33         7  16.2155  340.5255   3/3/2019   \n",
       "3       Health and beauty       58.22         8  23.2880  489.0480  1/27/2019   \n",
       "4       Sports and travel       86.31         7  30.2085  634.3785   2/8/2019   \n",
       "\n",
       "    Time      Payment    cogs  gross margin percentage  gross income  Rating  \n",
       "0  13:08      Ewallet  522.83                 4.761905       26.1415     9.1  \n",
       "1  10:29         Cash   76.40                 4.761905        3.8200     9.6  \n",
       "2  13:23  Credit card  324.31                 4.761905       16.2155     7.4  \n",
       "3  20:33      Ewallet  465.76                 4.761905       23.2880     8.4  \n",
       "4  10:37      Ewallet  604.17                 4.761905       30.2085     5.3  "
      ]
     },
     "execution_count": 12,
     "metadata": {},
     "output_type": "execute_result"
    }
   ],
   "source": [
    "df.head()"
   ]
  },
  {
   "cell_type": "code",
   "execution_count": 13,
   "id": "672305f7-bdcc-45ba-9b6c-022ee1f476f3",
   "metadata": {},
   "outputs": [
    {
     "data": {
      "text/html": [
       "<div>\n",
       "<style scoped>\n",
       "    .dataframe tbody tr th:only-of-type {\n",
       "        vertical-align: middle;\n",
       "    }\n",
       "\n",
       "    .dataframe tbody tr th {\n",
       "        vertical-align: top;\n",
       "    }\n",
       "\n",
       "    .dataframe thead th {\n",
       "        text-align: right;\n",
       "    }\n",
       "</style>\n",
       "<table border=\"1\" class=\"dataframe\">\n",
       "  <thead>\n",
       "    <tr style=\"text-align: right;\">\n",
       "      <th></th>\n",
       "      <th>Invoice ID</th>\n",
       "      <th>Branch</th>\n",
       "      <th>City</th>\n",
       "      <th>Customer type</th>\n",
       "      <th>Gender</th>\n",
       "      <th>Product line</th>\n",
       "      <th>Unit price</th>\n",
       "      <th>Quantity</th>\n",
       "      <th>Tax 5%</th>\n",
       "      <th>Total</th>\n",
       "      <th>Date</th>\n",
       "      <th>Time</th>\n",
       "      <th>Payment</th>\n",
       "      <th>cogs</th>\n",
       "      <th>gross margin percentage</th>\n",
       "      <th>gross income</th>\n",
       "      <th>Rating</th>\n",
       "    </tr>\n",
       "  </thead>\n",
       "  <tbody>\n",
       "    <tr>\n",
       "      <th>995</th>\n",
       "      <td>233-67-5758</td>\n",
       "      <td>C</td>\n",
       "      <td>Naypyitaw</td>\n",
       "      <td>Normal</td>\n",
       "      <td>Male</td>\n",
       "      <td>Health and beauty</td>\n",
       "      <td>40.35</td>\n",
       "      <td>1</td>\n",
       "      <td>2.0175</td>\n",
       "      <td>42.3675</td>\n",
       "      <td>1/29/2019</td>\n",
       "      <td>13:46</td>\n",
       "      <td>Ewallet</td>\n",
       "      <td>40.35</td>\n",
       "      <td>4.761905</td>\n",
       "      <td>2.0175</td>\n",
       "      <td>6.2</td>\n",
       "    </tr>\n",
       "    <tr>\n",
       "      <th>996</th>\n",
       "      <td>303-96-2227</td>\n",
       "      <td>B</td>\n",
       "      <td>Mandalay</td>\n",
       "      <td>Normal</td>\n",
       "      <td>Female</td>\n",
       "      <td>Home and lifestyle</td>\n",
       "      <td>97.38</td>\n",
       "      <td>10</td>\n",
       "      <td>48.6900</td>\n",
       "      <td>1022.4900</td>\n",
       "      <td>3/2/2019</td>\n",
       "      <td>17:16</td>\n",
       "      <td>Ewallet</td>\n",
       "      <td>973.80</td>\n",
       "      <td>4.761905</td>\n",
       "      <td>48.6900</td>\n",
       "      <td>4.4</td>\n",
       "    </tr>\n",
       "    <tr>\n",
       "      <th>997</th>\n",
       "      <td>727-02-1313</td>\n",
       "      <td>A</td>\n",
       "      <td>Yangon</td>\n",
       "      <td>Member</td>\n",
       "      <td>Male</td>\n",
       "      <td>Food and beverages</td>\n",
       "      <td>31.84</td>\n",
       "      <td>1</td>\n",
       "      <td>1.5920</td>\n",
       "      <td>33.4320</td>\n",
       "      <td>2/9/2019</td>\n",
       "      <td>13:22</td>\n",
       "      <td>Cash</td>\n",
       "      <td>31.84</td>\n",
       "      <td>4.761905</td>\n",
       "      <td>1.5920</td>\n",
       "      <td>7.7</td>\n",
       "    </tr>\n",
       "    <tr>\n",
       "      <th>998</th>\n",
       "      <td>347-56-2442</td>\n",
       "      <td>A</td>\n",
       "      <td>Yangon</td>\n",
       "      <td>Normal</td>\n",
       "      <td>Male</td>\n",
       "      <td>Home and lifestyle</td>\n",
       "      <td>65.82</td>\n",
       "      <td>1</td>\n",
       "      <td>3.2910</td>\n",
       "      <td>69.1110</td>\n",
       "      <td>2/22/2019</td>\n",
       "      <td>15:33</td>\n",
       "      <td>Cash</td>\n",
       "      <td>65.82</td>\n",
       "      <td>4.761905</td>\n",
       "      <td>3.2910</td>\n",
       "      <td>4.1</td>\n",
       "    </tr>\n",
       "    <tr>\n",
       "      <th>999</th>\n",
       "      <td>849-09-3807</td>\n",
       "      <td>A</td>\n",
       "      <td>Yangon</td>\n",
       "      <td>Member</td>\n",
       "      <td>Female</td>\n",
       "      <td>Fashion accessories</td>\n",
       "      <td>88.34</td>\n",
       "      <td>7</td>\n",
       "      <td>30.9190</td>\n",
       "      <td>649.2990</td>\n",
       "      <td>2/18/2019</td>\n",
       "      <td>13:28</td>\n",
       "      <td>Cash</td>\n",
       "      <td>618.38</td>\n",
       "      <td>4.761905</td>\n",
       "      <td>30.9190</td>\n",
       "      <td>6.6</td>\n",
       "    </tr>\n",
       "  </tbody>\n",
       "</table>\n",
       "</div>"
      ],
      "text/plain": [
       "      Invoice ID Branch       City Customer type  Gender         Product line  \\\n",
       "995  233-67-5758      C  Naypyitaw        Normal    Male    Health and beauty   \n",
       "996  303-96-2227      B   Mandalay        Normal  Female   Home and lifestyle   \n",
       "997  727-02-1313      A     Yangon        Member    Male   Food and beverages   \n",
       "998  347-56-2442      A     Yangon        Normal    Male   Home and lifestyle   \n",
       "999  849-09-3807      A     Yangon        Member  Female  Fashion accessories   \n",
       "\n",
       "     Unit price  Quantity   Tax 5%      Total       Date   Time  Payment  \\\n",
       "995       40.35         1   2.0175    42.3675  1/29/2019  13:46  Ewallet   \n",
       "996       97.38        10  48.6900  1022.4900   3/2/2019  17:16  Ewallet   \n",
       "997       31.84         1   1.5920    33.4320   2/9/2019  13:22     Cash   \n",
       "998       65.82         1   3.2910    69.1110  2/22/2019  15:33     Cash   \n",
       "999       88.34         7  30.9190   649.2990  2/18/2019  13:28     Cash   \n",
       "\n",
       "       cogs  gross margin percentage  gross income  Rating  \n",
       "995   40.35                 4.761905        2.0175     6.2  \n",
       "996  973.80                 4.761905       48.6900     4.4  \n",
       "997   31.84                 4.761905        1.5920     7.7  \n",
       "998   65.82                 4.761905        3.2910     4.1  \n",
       "999  618.38                 4.761905       30.9190     6.6  "
      ]
     },
     "execution_count": 13,
     "metadata": {},
     "output_type": "execute_result"
    }
   ],
   "source": [
    "df.tail()"
   ]
  },
  {
   "cell_type": "code",
   "execution_count": 14,
   "id": "1e7e6256-7d71-4f84-9000-f2bf0a5cb500",
   "metadata": {},
   "outputs": [
    {
     "data": {
      "text/plain": [
       "Index(['Invoice ID', 'Branch', 'City', 'Customer type', 'Gender',\n",
       "       'Product line', 'Unit price', 'Quantity', 'Tax 5%', 'Total', 'Date',\n",
       "       'Time', 'Payment', 'cogs', 'gross margin percentage', 'gross income',\n",
       "       'Rating'],\n",
       "      dtype='object')"
      ]
     },
     "execution_count": 14,
     "metadata": {},
     "output_type": "execute_result"
    }
   ],
   "source": [
    "df.columns"
   ]
  },
  {
   "cell_type": "code",
   "execution_count": null,
   "id": "3e372394-9f0e-4e91-ab7a-45bdfdaab078",
   "metadata": {},
   "outputs": [],
   "source": []
  },
  {
   "cell_type": "code",
   "execution_count": 15,
   "id": "df54e344-b6a3-41a8-a3ab-2966f6df44c5",
   "metadata": {},
   "outputs": [
    {
     "data": {
      "text/plain": [
       "Invoice ID                 0\n",
       "Branch                     0\n",
       "City                       0\n",
       "Customer type              0\n",
       "Gender                     0\n",
       "Product line               0\n",
       "Unit price                 0\n",
       "Quantity                   0\n",
       "Tax 5%                     0\n",
       "Total                      0\n",
       "Date                       0\n",
       "Time                       0\n",
       "Payment                    0\n",
       "cogs                       0\n",
       "gross margin percentage    0\n",
       "gross income               0\n",
       "Rating                     0\n",
       "dtype: int64"
      ]
     },
     "execution_count": 15,
     "metadata": {},
     "output_type": "execute_result"
    }
   ],
   "source": [
    "df.isna().sum()"
   ]
  },
  {
   "cell_type": "code",
   "execution_count": 16,
   "id": "0e8d8b74-578b-4781-b168-2218721fa0d4",
   "metadata": {},
   "outputs": [
    {
     "data": {
      "text/plain": [
       "Invoice ID                  object\n",
       "Branch                      object\n",
       "City                        object\n",
       "Customer type               object\n",
       "Gender                      object\n",
       "Product line                object\n",
       "Unit price                 float64\n",
       "Quantity                     int64\n",
       "Tax 5%                     float64\n",
       "Total                      float64\n",
       "Date                        object\n",
       "Time                        object\n",
       "Payment                     object\n",
       "cogs                       float64\n",
       "gross margin percentage    float64\n",
       "gross income               float64\n",
       "Rating                     float64\n",
       "dtype: object"
      ]
     },
     "execution_count": 16,
     "metadata": {},
     "output_type": "execute_result"
    }
   ],
   "source": [
    "df.dtypes"
   ]
  },
  {
   "cell_type": "code",
   "execution_count": 17,
   "id": "653ed35b-de12-4c98-9e33-867ed369e959",
   "metadata": {},
   "outputs": [
    {
     "data": {
      "text/html": [
       "<div>\n",
       "<style scoped>\n",
       "    .dataframe tbody tr th:only-of-type {\n",
       "        vertical-align: middle;\n",
       "    }\n",
       "\n",
       "    .dataframe tbody tr th {\n",
       "        vertical-align: top;\n",
       "    }\n",
       "\n",
       "    .dataframe thead th {\n",
       "        text-align: right;\n",
       "    }\n",
       "</style>\n",
       "<table border=\"1\" class=\"dataframe\">\n",
       "  <thead>\n",
       "    <tr style=\"text-align: right;\">\n",
       "      <th></th>\n",
       "      <th>Invoice ID</th>\n",
       "      <th>Branch</th>\n",
       "      <th>City</th>\n",
       "      <th>Customer type</th>\n",
       "      <th>Gender</th>\n",
       "      <th>Product line</th>\n",
       "      <th>Unit price</th>\n",
       "      <th>Quantity</th>\n",
       "      <th>Tax 5%</th>\n",
       "      <th>Total</th>\n",
       "      <th>Date</th>\n",
       "      <th>Time</th>\n",
       "      <th>Payment</th>\n",
       "      <th>cogs</th>\n",
       "      <th>gross margin percentage</th>\n",
       "      <th>gross income</th>\n",
       "      <th>Rating</th>\n",
       "    </tr>\n",
       "  </thead>\n",
       "  <tbody>\n",
       "    <tr>\n",
       "      <th>0</th>\n",
       "      <td>750-67-8428</td>\n",
       "      <td>A</td>\n",
       "      <td>Yangon</td>\n",
       "      <td>Member</td>\n",
       "      <td>Female</td>\n",
       "      <td>Health and beauty</td>\n",
       "      <td>74.69</td>\n",
       "      <td>7</td>\n",
       "      <td>26.1415</td>\n",
       "      <td>548.9715</td>\n",
       "      <td>1/5/2019</td>\n",
       "      <td>13:08</td>\n",
       "      <td>Ewallet</td>\n",
       "      <td>522.83</td>\n",
       "      <td>4.761905</td>\n",
       "      <td>26.1415</td>\n",
       "      <td>9.1</td>\n",
       "    </tr>\n",
       "  </tbody>\n",
       "</table>\n",
       "</div>"
      ],
      "text/plain": [
       "    Invoice ID Branch    City Customer type  Gender       Product line  \\\n",
       "0  750-67-8428      A  Yangon        Member  Female  Health and beauty   \n",
       "\n",
       "   Unit price  Quantity   Tax 5%     Total      Date   Time  Payment    cogs  \\\n",
       "0       74.69         7  26.1415  548.9715  1/5/2019  13:08  Ewallet  522.83   \n",
       "\n",
       "   gross margin percentage  gross income  Rating  \n",
       "0                 4.761905       26.1415     9.1  "
      ]
     },
     "execution_count": 17,
     "metadata": {},
     "output_type": "execute_result"
    }
   ],
   "source": [
    "df.head(1)"
   ]
  },
  {
   "cell_type": "code",
   "execution_count": 18,
   "id": "58483076-df6a-4f43-862b-c1fc17e6051c",
   "metadata": {},
   "outputs": [
    {
     "data": {
      "text/plain": [
       "0"
      ]
     },
     "execution_count": 18,
     "metadata": {},
     "output_type": "execute_result"
    }
   ],
   "source": [
    "df.duplicated().sum()"
   ]
  },
  {
   "cell_type": "code",
   "execution_count": 19,
   "id": "8850d2ce-490d-4761-9369-d80e0eb98c86",
   "metadata": {},
   "outputs": [],
   "source": [
    "df['Date']=pd.to_datetime(df['Date'])"
   ]
  },
  {
   "cell_type": "code",
   "execution_count": 20,
   "id": "9f921fca-a73f-4866-b5dc-3af02f8d83cd",
   "metadata": {},
   "outputs": [
    {
     "data": {
      "text/plain": [
       "0     2019-01-05\n",
       "1     2019-03-08\n",
       "2     2019-03-03\n",
       "3     2019-01-27\n",
       "4     2019-02-08\n",
       "         ...    \n",
       "995   2019-01-29\n",
       "996   2019-03-02\n",
       "997   2019-02-09\n",
       "998   2019-02-22\n",
       "999   2019-02-18\n",
       "Name: Date, Length: 1000, dtype: datetime64[ns]"
      ]
     },
     "execution_count": 20,
     "metadata": {},
     "output_type": "execute_result"
    }
   ],
   "source": [
    "df['Date']"
   ]
  },
  {
   "cell_type": "code",
   "execution_count": 21,
   "id": "a42b2093-b678-426a-bb65-aeda1fa40222",
   "metadata": {},
   "outputs": [
    {
     "data": {
      "text/plain": [
       "Invoice ID                         object\n",
       "Branch                             object\n",
       "City                               object\n",
       "Customer type                      object\n",
       "Gender                             object\n",
       "Product line                       object\n",
       "Unit price                        float64\n",
       "Quantity                            int64\n",
       "Tax 5%                            float64\n",
       "Total                             float64\n",
       "Date                       datetime64[ns]\n",
       "Time                               object\n",
       "Payment                            object\n",
       "cogs                              float64\n",
       "gross margin percentage           float64\n",
       "gross income                      float64\n",
       "Rating                            float64\n",
       "dtype: object"
      ]
     },
     "execution_count": 21,
     "metadata": {},
     "output_type": "execute_result"
    }
   ],
   "source": [
    "df.dtypes"
   ]
  },
  {
   "cell_type": "code",
   "execution_count": 22,
   "id": "1596582c-ee9e-4257-8388-3472921c2dfe",
   "metadata": {},
   "outputs": [
    {
     "data": {
      "text/html": [
       "<div>\n",
       "<style scoped>\n",
       "    .dataframe tbody tr th:only-of-type {\n",
       "        vertical-align: middle;\n",
       "    }\n",
       "\n",
       "    .dataframe tbody tr th {\n",
       "        vertical-align: top;\n",
       "    }\n",
       "\n",
       "    .dataframe thead th {\n",
       "        text-align: right;\n",
       "    }\n",
       "</style>\n",
       "<table border=\"1\" class=\"dataframe\">\n",
       "  <thead>\n",
       "    <tr style=\"text-align: right;\">\n",
       "      <th></th>\n",
       "      <th>Invoice ID</th>\n",
       "      <th>Branch</th>\n",
       "      <th>City</th>\n",
       "      <th>Customer type</th>\n",
       "      <th>Gender</th>\n",
       "      <th>Product line</th>\n",
       "      <th>Unit price</th>\n",
       "      <th>Quantity</th>\n",
       "      <th>Tax 5%</th>\n",
       "      <th>Total</th>\n",
       "      <th>...</th>\n",
       "      <th>Payment</th>\n",
       "      <th>cogs</th>\n",
       "      <th>gross margin percentage</th>\n",
       "      <th>gross income</th>\n",
       "      <th>Rating</th>\n",
       "      <th>Year</th>\n",
       "      <th>Month</th>\n",
       "      <th>Quarter</th>\n",
       "      <th>Month_Name</th>\n",
       "      <th>Day</th>\n",
       "    </tr>\n",
       "  </thead>\n",
       "  <tbody>\n",
       "    <tr>\n",
       "      <th>0</th>\n",
       "      <td>750-67-8428</td>\n",
       "      <td>A</td>\n",
       "      <td>Yangon</td>\n",
       "      <td>Member</td>\n",
       "      <td>Female</td>\n",
       "      <td>Health and beauty</td>\n",
       "      <td>74.69</td>\n",
       "      <td>7</td>\n",
       "      <td>26.1415</td>\n",
       "      <td>548.9715</td>\n",
       "      <td>...</td>\n",
       "      <td>Ewallet</td>\n",
       "      <td>522.83</td>\n",
       "      <td>4.761905</td>\n",
       "      <td>26.1415</td>\n",
       "      <td>9.1</td>\n",
       "      <td>2019</td>\n",
       "      <td>1</td>\n",
       "      <td>1</td>\n",
       "      <td>January</td>\n",
       "      <td>5</td>\n",
       "    </tr>\n",
       "  </tbody>\n",
       "</table>\n",
       "<p>1 rows × 22 columns</p>\n",
       "</div>"
      ],
      "text/plain": [
       "    Invoice ID Branch    City Customer type  Gender       Product line  \\\n",
       "0  750-67-8428      A  Yangon        Member  Female  Health and beauty   \n",
       "\n",
       "   Unit price  Quantity   Tax 5%     Total  ...  Payment    cogs  \\\n",
       "0       74.69         7  26.1415  548.9715  ...  Ewallet  522.83   \n",
       "\n",
       "  gross margin percentage  gross income  Rating  Year  Month  Quarter  \\\n",
       "0                4.761905       26.1415     9.1  2019      1        1   \n",
       "\n",
       "   Month_Name  Day  \n",
       "0     January    5  \n",
       "\n",
       "[1 rows x 22 columns]"
      ]
     },
     "execution_count": 22,
     "metadata": {},
     "output_type": "execute_result"
    }
   ],
   "source": [
    "df['Year']= df['Date'].dt.year\n",
    "df['Month']= df['Date'].dt.month\n",
    "df['Quarter']= df['Date'].dt.quarter\n",
    "df['Month_Name']=df['Date'].dt.month_name()\n",
    "df['Day']=df['Date'].dt.day\n",
    "df.head(1)"
   ]
  },
  {
   "cell_type": "code",
   "execution_count": null,
   "id": "6681e9ce-4967-4a38-ad9f-5d18a25a2f43",
   "metadata": {},
   "outputs": [],
   "source": []
  },
  {
   "cell_type": "code",
   "execution_count": 23,
   "id": "aed737da-1af0-4798-8691-9229e8b46fb3",
   "metadata": {},
   "outputs": [
    {
     "data": {
      "text/plain": [
       "0      13:08\n",
       "1      10:29\n",
       "2      13:23\n",
       "3      20:33\n",
       "4      10:37\n",
       "       ...  \n",
       "995    13:46\n",
       "996    17:16\n",
       "997    13:22\n",
       "998    15:33\n",
       "999    13:28\n",
       "Name: Time, Length: 1000, dtype: object"
      ]
     },
     "execution_count": 23,
     "metadata": {},
     "output_type": "execute_result"
    }
   ],
   "source": [
    "df['Time']"
   ]
  },
  {
   "cell_type": "code",
   "execution_count": null,
   "id": "6c562fca-62d9-4105-b5f6-b26a6bf53b63",
   "metadata": {},
   "outputs": [],
   "source": []
  },
  {
   "cell_type": "code",
   "execution_count": 24,
   "id": "3e1aa124-9739-443e-be42-c0ee2992534e",
   "metadata": {},
   "outputs": [
    {
     "data": {
      "text/plain": [
       "Index(['Invoice ID', 'Branch', 'City', 'Customer type', 'Gender',\n",
       "       'Product line', 'Unit price', 'Quantity', 'Tax 5%', 'Total', 'Date',\n",
       "       'Time', 'Payment', 'cogs', 'gross margin percentage', 'gross income',\n",
       "       'Rating', 'Year', 'Month', 'Quarter', 'Month_Name', 'Day'],\n",
       "      dtype='object')"
      ]
     },
     "execution_count": 24,
     "metadata": {},
     "output_type": "execute_result"
    }
   ],
   "source": [
    "df.columns"
   ]
  },
  {
   "cell_type": "code",
   "execution_count": null,
   "id": "8095bc1e-721a-485f-b564-2b8ac843be2a",
   "metadata": {},
   "outputs": [],
   "source": []
  },
  {
   "cell_type": "markdown",
   "id": "7730ca2f-726c-4b58-9af4-fb872f13d87e",
   "metadata": {},
   "source": [
    "## Univariate Analysis"
   ]
  },
  {
   "cell_type": "markdown",
   "id": "fd687247-a08d-4152-ba7b-b18ef34b7e9f",
   "metadata": {},
   "source": [
    "#### General Analysis"
   ]
  },
  {
   "cell_type": "markdown",
   "id": "4675b8d6-962a-4286-95e3-144ee1ddcdf7",
   "metadata": {},
   "source": [
    "#### What is the total revenue generated by all transactions?"
   ]
  },
  {
   "cell_type": "code",
   "execution_count": 28,
   "id": "3810e19b-f1b4-4cd1-80be-2baf2c54f804",
   "metadata": {},
   "outputs": [
    {
     "data": {
      "text/plain": [
       "322966.749"
      ]
     },
     "execution_count": 28,
     "metadata": {},
     "output_type": "execute_result"
    }
   ],
   "source": [
    "df['Total'].sum()"
   ]
  },
  {
   "cell_type": "code",
   "execution_count": 29,
   "id": "40cfe645-d0b4-4e66-99d9-fd24b4c730ed",
   "metadata": {},
   "outputs": [
    {
     "data": {
      "text/html": [
       "<div>\n",
       "<style scoped>\n",
       "    .dataframe tbody tr th:only-of-type {\n",
       "        vertical-align: middle;\n",
       "    }\n",
       "\n",
       "    .dataframe tbody tr th {\n",
       "        vertical-align: top;\n",
       "    }\n",
       "\n",
       "    .dataframe thead th {\n",
       "        text-align: right;\n",
       "    }\n",
       "</style>\n",
       "<table border=\"1\" class=\"dataframe\">\n",
       "  <thead>\n",
       "    <tr style=\"text-align: right;\">\n",
       "      <th></th>\n",
       "      <th>Invoice ID</th>\n",
       "      <th>Branch</th>\n",
       "      <th>City</th>\n",
       "      <th>Customer type</th>\n",
       "      <th>Gender</th>\n",
       "      <th>Product line</th>\n",
       "      <th>Unit price</th>\n",
       "      <th>Quantity</th>\n",
       "      <th>Tax 5%</th>\n",
       "      <th>Total</th>\n",
       "      <th>...</th>\n",
       "      <th>Payment</th>\n",
       "      <th>cogs</th>\n",
       "      <th>gross margin percentage</th>\n",
       "      <th>gross income</th>\n",
       "      <th>Rating</th>\n",
       "      <th>Year</th>\n",
       "      <th>Month</th>\n",
       "      <th>Quarter</th>\n",
       "      <th>Month_Name</th>\n",
       "      <th>Day</th>\n",
       "    </tr>\n",
       "  </thead>\n",
       "  <tbody>\n",
       "    <tr>\n",
       "      <th>0</th>\n",
       "      <td>750-67-8428</td>\n",
       "      <td>A</td>\n",
       "      <td>Yangon</td>\n",
       "      <td>Member</td>\n",
       "      <td>Female</td>\n",
       "      <td>Health and beauty</td>\n",
       "      <td>74.69</td>\n",
       "      <td>7</td>\n",
       "      <td>26.1415</td>\n",
       "      <td>548.9715</td>\n",
       "      <td>...</td>\n",
       "      <td>Ewallet</td>\n",
       "      <td>522.83</td>\n",
       "      <td>4.761905</td>\n",
       "      <td>26.1415</td>\n",
       "      <td>9.1</td>\n",
       "      <td>2019</td>\n",
       "      <td>1</td>\n",
       "      <td>1</td>\n",
       "      <td>January</td>\n",
       "      <td>5</td>\n",
       "    </tr>\n",
       "  </tbody>\n",
       "</table>\n",
       "<p>1 rows × 22 columns</p>\n",
       "</div>"
      ],
      "text/plain": [
       "    Invoice ID Branch    City Customer type  Gender       Product line  \\\n",
       "0  750-67-8428      A  Yangon        Member  Female  Health and beauty   \n",
       "\n",
       "   Unit price  Quantity   Tax 5%     Total  ...  Payment    cogs  \\\n",
       "0       74.69         7  26.1415  548.9715  ...  Ewallet  522.83   \n",
       "\n",
       "  gross margin percentage  gross income  Rating  Year  Month  Quarter  \\\n",
       "0                4.761905       26.1415     9.1  2019      1        1   \n",
       "\n",
       "   Month_Name  Day  \n",
       "0     January    5  \n",
       "\n",
       "[1 rows x 22 columns]"
      ]
     },
     "execution_count": 29,
     "metadata": {},
     "output_type": "execute_result"
    }
   ],
   "source": [
    "df.head(1)"
   ]
  },
  {
   "cell_type": "code",
   "execution_count": 30,
   "id": "e5a5e832-28ff-4c86-a729-259bbd626758",
   "metadata": {},
   "outputs": [],
   "source": [
    "# What is the average unit price of the products sold?"
   ]
  },
  {
   "cell_type": "code",
   "execution_count": 31,
   "id": "eafb7271-4139-495b-ba22-c78f8dc8644d",
   "metadata": {},
   "outputs": [
    {
     "data": {
      "text/html": [
       "<div>\n",
       "<style scoped>\n",
       "    .dataframe tbody tr th:only-of-type {\n",
       "        vertical-align: middle;\n",
       "    }\n",
       "\n",
       "    .dataframe tbody tr th {\n",
       "        vertical-align: top;\n",
       "    }\n",
       "\n",
       "    .dataframe thead th {\n",
       "        text-align: right;\n",
       "    }\n",
       "</style>\n",
       "<table border=\"1\" class=\"dataframe\">\n",
       "  <thead>\n",
       "    <tr style=\"text-align: right;\">\n",
       "      <th></th>\n",
       "      <th>Product line</th>\n",
       "      <th>Total</th>\n",
       "    </tr>\n",
       "  </thead>\n",
       "  <tbody>\n",
       "    <tr>\n",
       "      <th>0</th>\n",
       "      <td>Electronic accessories</td>\n",
       "      <td>54337.5315</td>\n",
       "    </tr>\n",
       "    <tr>\n",
       "      <th>1</th>\n",
       "      <td>Fashion accessories</td>\n",
       "      <td>54305.8950</td>\n",
       "    </tr>\n",
       "    <tr>\n",
       "      <th>2</th>\n",
       "      <td>Food and beverages</td>\n",
       "      <td>56144.8440</td>\n",
       "    </tr>\n",
       "    <tr>\n",
       "      <th>3</th>\n",
       "      <td>Health and beauty</td>\n",
       "      <td>49193.7390</td>\n",
       "    </tr>\n",
       "    <tr>\n",
       "      <th>4</th>\n",
       "      <td>Home and lifestyle</td>\n",
       "      <td>53861.9130</td>\n",
       "    </tr>\n",
       "    <tr>\n",
       "      <th>5</th>\n",
       "      <td>Sports and travel</td>\n",
       "      <td>55122.8265</td>\n",
       "    </tr>\n",
       "  </tbody>\n",
       "</table>\n",
       "</div>"
      ],
      "text/plain": [
       "             Product line       Total\n",
       "0  Electronic accessories  54337.5315\n",
       "1     Fashion accessories  54305.8950\n",
       "2      Food and beverages  56144.8440\n",
       "3       Health and beauty  49193.7390\n",
       "4      Home and lifestyle  53861.9130\n",
       "5       Sports and travel  55122.8265"
      ]
     },
     "execution_count": 31,
     "metadata": {},
     "output_type": "execute_result"
    }
   ],
   "source": [
    "df.groupby(['Product line'])['Total'].sum().reset_index()"
   ]
  },
  {
   "cell_type": "code",
   "execution_count": 32,
   "id": "07f27e15-b432-4b44-9230-aaaba7faaf3c",
   "metadata": {},
   "outputs": [],
   "source": [
    "# What is the overall average customer rating?"
   ]
  },
  {
   "cell_type": "code",
   "execution_count": 33,
   "id": "36f6a187-f26a-41cd-aaa6-13867b54ed5f",
   "metadata": {},
   "outputs": [
    {
     "data": {
      "text/html": [
       "<div>\n",
       "<style scoped>\n",
       "    .dataframe tbody tr th:only-of-type {\n",
       "        vertical-align: middle;\n",
       "    }\n",
       "\n",
       "    .dataframe tbody tr th {\n",
       "        vertical-align: top;\n",
       "    }\n",
       "\n",
       "    .dataframe thead th {\n",
       "        text-align: right;\n",
       "    }\n",
       "</style>\n",
       "<table border=\"1\" class=\"dataframe\">\n",
       "  <thead>\n",
       "    <tr style=\"text-align: right;\">\n",
       "      <th></th>\n",
       "      <th>Customer type</th>\n",
       "      <th>Rating</th>\n",
       "    </tr>\n",
       "  </thead>\n",
       "  <tbody>\n",
       "    <tr>\n",
       "      <th>0</th>\n",
       "      <td>Member</td>\n",
       "      <td>6.940319</td>\n",
       "    </tr>\n",
       "    <tr>\n",
       "      <th>1</th>\n",
       "      <td>Normal</td>\n",
       "      <td>7.005210</td>\n",
       "    </tr>\n",
       "  </tbody>\n",
       "</table>\n",
       "</div>"
      ],
      "text/plain": [
       "  Customer type    Rating\n",
       "0        Member  6.940319\n",
       "1        Normal  7.005210"
      ]
     },
     "execution_count": 33,
     "metadata": {},
     "output_type": "execute_result"
    }
   ],
   "source": [
    "df.groupby(['Customer type'])['Rating'].mean().reset_index()"
   ]
  },
  {
   "cell_type": "markdown",
   "id": "ce85cf6e-4fec-4040-a71c-4ad63de4a73e",
   "metadata": {},
   "source": [
    "### Branch and City Analysis"
   ]
  },
  {
   "cell_type": "code",
   "execution_count": 35,
   "id": "27b65637-0218-4ffe-8db7-daab1d1f0314",
   "metadata": {},
   "outputs": [
    {
     "data": {
      "text/html": [
       "<div>\n",
       "<style scoped>\n",
       "    .dataframe tbody tr th:only-of-type {\n",
       "        vertical-align: middle;\n",
       "    }\n",
       "\n",
       "    .dataframe tbody tr th {\n",
       "        vertical-align: top;\n",
       "    }\n",
       "\n",
       "    .dataframe thead th {\n",
       "        text-align: right;\n",
       "    }\n",
       "</style>\n",
       "<table border=\"1\" class=\"dataframe\">\n",
       "  <thead>\n",
       "    <tr style=\"text-align: right;\">\n",
       "      <th></th>\n",
       "      <th>Branch</th>\n",
       "      <th>Total</th>\n",
       "    </tr>\n",
       "  </thead>\n",
       "  <tbody>\n",
       "    <tr>\n",
       "      <th>0</th>\n",
       "      <td>A</td>\n",
       "      <td>106200.3705</td>\n",
       "    </tr>\n",
       "    <tr>\n",
       "      <th>1</th>\n",
       "      <td>B</td>\n",
       "      <td>106197.6720</td>\n",
       "    </tr>\n",
       "    <tr>\n",
       "      <th>2</th>\n",
       "      <td>C</td>\n",
       "      <td>110568.7065</td>\n",
       "    </tr>\n",
       "  </tbody>\n",
       "</table>\n",
       "</div>"
      ],
      "text/plain": [
       "  Branch        Total\n",
       "0      A  106200.3705\n",
       "1      B  106197.6720\n",
       "2      C  110568.7065"
      ]
     },
     "execution_count": 35,
     "metadata": {},
     "output_type": "execute_result"
    }
   ],
   "source": [
    "# Which branch has the highest total sales?\n",
    "df.groupby(['Branch'])['Total'].sum().reset_index()"
   ]
  },
  {
   "cell_type": "code",
   "execution_count": 36,
   "id": "cd25629a-5761-4272-a9a9-6719543e6987",
   "metadata": {},
   "outputs": [
    {
     "data": {
      "text/plain": [
       "<Axes: xlabel='Branch'>"
      ]
     },
     "execution_count": 36,
     "metadata": {},
     "output_type": "execute_result"
    },
    {
     "data": {
      "image/png": "[encoded data removed]",
      "text/plain": [
       "<Figure size 640x480 with 1 Axes>"
      ]
     },
     "metadata": {},
     "output_type": "display_data"
    }
   ],
   "source": [
    "branch=df.groupby(['Branch'])['Total'].sum()\n",
    "branch.plot(kind='bar', color='red')"
   ]
  },
  {
   "cell_type": "markdown",
   "id": "1fbb52bf-1713-4a77-8ec3-e74d507279be",
   "metadata": {},
   "source": [
    "#### What is the average rating for each branch?"
   ]
  },
  {
   "cell_type": "code",
   "execution_count": 38,
   "id": "70b049c1-5820-447f-b7e7-dbea123eb2b2",
   "metadata": {},
   "outputs": [
    {
     "data": {
      "text/html": [
       "<div>\n",
       "<style scoped>\n",
       "    .dataframe tbody tr th:only-of-type {\n",
       "        vertical-align: middle;\n",
       "    }\n",
       "\n",
       "    .dataframe tbody tr th {\n",
       "        vertical-align: top;\n",
       "    }\n",
       "\n",
       "    .dataframe thead th {\n",
       "        text-align: right;\n",
       "    }\n",
       "</style>\n",
       "<table border=\"1\" class=\"dataframe\">\n",
       "  <thead>\n",
       "    <tr style=\"text-align: right;\">\n",
       "      <th></th>\n",
       "      <th>Branch</th>\n",
       "      <th>Rating</th>\n",
       "    </tr>\n",
       "  </thead>\n",
       "  <tbody>\n",
       "    <tr>\n",
       "      <th>0</th>\n",
       "      <td>A</td>\n",
       "      <td>7.027059</td>\n",
       "    </tr>\n",
       "    <tr>\n",
       "      <th>1</th>\n",
       "      <td>B</td>\n",
       "      <td>6.818072</td>\n",
       "    </tr>\n",
       "    <tr>\n",
       "      <th>2</th>\n",
       "      <td>C</td>\n",
       "      <td>7.072866</td>\n",
       "    </tr>\n",
       "  </tbody>\n",
       "</table>\n",
       "</div>"
      ],
      "text/plain": [
       "  Branch    Rating\n",
       "0      A  7.027059\n",
       "1      B  6.818072\n",
       "2      C  7.072866"
      ]
     },
     "execution_count": 38,
     "metadata": {},
     "output_type": "execute_result"
    }
   ],
   "source": [
    "df.groupby(['Branch'])['Rating'].mean().reset_index()"
   ]
  },
  {
   "cell_type": "code",
   "execution_count": 39,
   "id": "87c9f07a-3c13-429e-b064-a81642b6284f",
   "metadata": {},
   "outputs": [],
   "source": [
    "# Which city contributes the most to the total sales?"
   ]
  },
  {
   "cell_type": "code",
   "execution_count": 40,
   "id": "581b61a2-f8d0-4c57-95d8-525b6d978d16",
   "metadata": {},
   "outputs": [
    {
     "data": {
      "text/html": [
       "<div>\n",
       "<style scoped>\n",
       "    .dataframe tbody tr th:only-of-type {\n",
       "        vertical-align: middle;\n",
       "    }\n",
       "\n",
       "    .dataframe tbody tr th {\n",
       "        vertical-align: top;\n",
       "    }\n",
       "\n",
       "    .dataframe thead th {\n",
       "        text-align: right;\n",
       "    }\n",
       "</style>\n",
       "<table border=\"1\" class=\"dataframe\">\n",
       "  <thead>\n",
       "    <tr style=\"text-align: right;\">\n",
       "      <th></th>\n",
       "      <th>City</th>\n",
       "      <th>Total</th>\n",
       "    </tr>\n",
       "  </thead>\n",
       "  <tbody>\n",
       "    <tr>\n",
       "      <th>0</th>\n",
       "      <td>Mandalay</td>\n",
       "      <td>106197.6720</td>\n",
       "    </tr>\n",
       "    <tr>\n",
       "      <th>1</th>\n",
       "      <td>Naypyitaw</td>\n",
       "      <td>110568.7065</td>\n",
       "    </tr>\n",
       "    <tr>\n",
       "      <th>2</th>\n",
       "      <td>Yangon</td>\n",
       "      <td>106200.3705</td>\n",
       "    </tr>\n",
       "  </tbody>\n",
       "</table>\n",
       "</div>"
      ],
      "text/plain": [
       "        City        Total\n",
       "0   Mandalay  106197.6720\n",
       "1  Naypyitaw  110568.7065\n",
       "2     Yangon  106200.3705"
      ]
     },
     "execution_count": 40,
     "metadata": {},
     "output_type": "execute_result"
    }
   ],
   "source": [
    "df.groupby(['City'])['Total'].sum().reset_index()"
   ]
  },
  {
   "cell_type": "markdown",
   "id": "8ea102bf-d507-4abb-9a5c-c60caff81b3a",
   "metadata": {},
   "source": [
    "#### Product Line Analysis"
   ]
  },
  {
   "cell_type": "markdown",
   "id": "5e0ef00a-44af-4c80-81df-9e917f33e4b3",
   "metadata": {},
   "source": [
    "#### Which product line generates the highest revenue?"
   ]
  },
  {
   "cell_type": "code",
   "execution_count": 43,
   "id": "50d7adf8-2222-484c-b412-43eabe172735",
   "metadata": {},
   "outputs": [
    {
     "data": {
      "text/html": [
       "<div>\n",
       "<style scoped>\n",
       "    .dataframe tbody tr th:only-of-type {\n",
       "        vertical-align: middle;\n",
       "    }\n",
       "\n",
       "    .dataframe tbody tr th {\n",
       "        vertical-align: top;\n",
       "    }\n",
       "\n",
       "    .dataframe thead th {\n",
       "        text-align: right;\n",
       "    }\n",
       "</style>\n",
       "<table border=\"1\" class=\"dataframe\">\n",
       "  <thead>\n",
       "    <tr style=\"text-align: right;\">\n",
       "      <th></th>\n",
       "      <th>Customer type</th>\n",
       "      <th>Total</th>\n",
       "    </tr>\n",
       "  </thead>\n",
       "  <tbody>\n",
       "    <tr>\n",
       "      <th>0</th>\n",
       "      <td>Member</td>\n",
       "      <td>164223.444</td>\n",
       "    </tr>\n",
       "    <tr>\n",
       "      <th>1</th>\n",
       "      <td>Normal</td>\n",
       "      <td>158743.305</td>\n",
       "    </tr>\n",
       "  </tbody>\n",
       "</table>\n",
       "</div>"
      ],
      "text/plain": [
       "  Customer type       Total\n",
       "0        Member  164223.444\n",
       "1        Normal  158743.305"
      ]
     },
     "execution_count": 43,
     "metadata": {},
     "output_type": "execute_result"
    }
   ],
   "source": [
    "df.groupby(['Customer type'])['Total'].sum().reset_index()"
   ]
  },
  {
   "cell_type": "markdown",
   "id": "3422df88-68bd-49ca-8f6f-92686209c5d1",
   "metadata": {},
   "source": [
    "#### What is the most popular product line based on the quantity sold?"
   ]
  },
  {
   "cell_type": "code",
   "execution_count": 45,
   "id": "3b92fedb-7135-45cc-9e0f-073b841a18f2",
   "metadata": {},
   "outputs": [
    {
     "data": {
      "text/html": [
       "<div>\n",
       "<style scoped>\n",
       "    .dataframe tbody tr th:only-of-type {\n",
       "        vertical-align: middle;\n",
       "    }\n",
       "\n",
       "    .dataframe tbody tr th {\n",
       "        vertical-align: top;\n",
       "    }\n",
       "\n",
       "    .dataframe thead th {\n",
       "        text-align: right;\n",
       "    }\n",
       "</style>\n",
       "<table border=\"1\" class=\"dataframe\">\n",
       "  <thead>\n",
       "    <tr style=\"text-align: right;\">\n",
       "      <th></th>\n",
       "      <th>Product line</th>\n",
       "      <th>Quantity</th>\n",
       "    </tr>\n",
       "  </thead>\n",
       "  <tbody>\n",
       "    <tr>\n",
       "      <th>0</th>\n",
       "      <td>Electronic accessories</td>\n",
       "      <td>170</td>\n",
       "    </tr>\n",
       "    <tr>\n",
       "      <th>1</th>\n",
       "      <td>Fashion accessories</td>\n",
       "      <td>178</td>\n",
       "    </tr>\n",
       "    <tr>\n",
       "      <th>2</th>\n",
       "      <td>Food and beverages</td>\n",
       "      <td>174</td>\n",
       "    </tr>\n",
       "    <tr>\n",
       "      <th>3</th>\n",
       "      <td>Health and beauty</td>\n",
       "      <td>152</td>\n",
       "    </tr>\n",
       "    <tr>\n",
       "      <th>4</th>\n",
       "      <td>Home and lifestyle</td>\n",
       "      <td>160</td>\n",
       "    </tr>\n",
       "    <tr>\n",
       "      <th>5</th>\n",
       "      <td>Sports and travel</td>\n",
       "      <td>166</td>\n",
       "    </tr>\n",
       "  </tbody>\n",
       "</table>\n",
       "</div>"
      ],
      "text/plain": [
       "             Product line  Quantity\n",
       "0  Electronic accessories       170\n",
       "1     Fashion accessories       178\n",
       "2      Food and beverages       174\n",
       "3       Health and beauty       152\n",
       "4      Home and lifestyle       160\n",
       "5       Sports and travel       166"
      ]
     },
     "execution_count": 45,
     "metadata": {},
     "output_type": "execute_result"
    }
   ],
   "source": [
    "df.groupby(['Product line'])['Quantity'].count().reset_index()"
   ]
  },
  {
   "cell_type": "code",
   "execution_count": null,
   "id": "496dfcbe-5276-4c32-b15f-92698f6928c3",
   "metadata": {},
   "outputs": [],
   "source": []
  },
  {
   "cell_type": "markdown",
   "id": "84513e8b-78a4-491b-b61e-274b9b513529",
   "metadata": {},
   "source": [
    "#### What is the average unit price for each product line?"
   ]
  },
  {
   "cell_type": "code",
   "execution_count": 47,
   "id": "ee3e6b5d-6e57-41ca-922d-e38efe52bf80",
   "metadata": {},
   "outputs": [
    {
     "data": {
      "text/html": [
       "<div>\n",
       "<style scoped>\n",
       "    .dataframe tbody tr th:only-of-type {\n",
       "        vertical-align: middle;\n",
       "    }\n",
       "\n",
       "    .dataframe tbody tr th {\n",
       "        vertical-align: top;\n",
       "    }\n",
       "\n",
       "    .dataframe thead th {\n",
       "        text-align: right;\n",
       "    }\n",
       "</style>\n",
       "<table border=\"1\" class=\"dataframe\">\n",
       "  <thead>\n",
       "    <tr style=\"text-align: right;\">\n",
       "      <th></th>\n",
       "      <th>Product line</th>\n",
       "      <th>Total</th>\n",
       "    </tr>\n",
       "  </thead>\n",
       "  <tbody>\n",
       "    <tr>\n",
       "      <th>0</th>\n",
       "      <td>Electronic accessories</td>\n",
       "      <td>319.632538</td>\n",
       "    </tr>\n",
       "    <tr>\n",
       "      <th>1</th>\n",
       "      <td>Fashion accessories</td>\n",
       "      <td>305.089298</td>\n",
       "    </tr>\n",
       "    <tr>\n",
       "      <th>2</th>\n",
       "      <td>Food and beverages</td>\n",
       "      <td>322.671517</td>\n",
       "    </tr>\n",
       "    <tr>\n",
       "      <th>3</th>\n",
       "      <td>Health and beauty</td>\n",
       "      <td>323.643020</td>\n",
       "    </tr>\n",
       "    <tr>\n",
       "      <th>4</th>\n",
       "      <td>Home and lifestyle</td>\n",
       "      <td>336.636956</td>\n",
       "    </tr>\n",
       "    <tr>\n",
       "      <th>5</th>\n",
       "      <td>Sports and travel</td>\n",
       "      <td>332.065220</td>\n",
       "    </tr>\n",
       "  </tbody>\n",
       "</table>\n",
       "</div>"
      ],
      "text/plain": [
       "             Product line       Total\n",
       "0  Electronic accessories  319.632538\n",
       "1     Fashion accessories  305.089298\n",
       "2      Food and beverages  322.671517\n",
       "3       Health and beauty  323.643020\n",
       "4      Home and lifestyle  336.636956\n",
       "5       Sports and travel  332.065220"
      ]
     },
     "execution_count": 47,
     "metadata": {},
     "output_type": "execute_result"
    }
   ],
   "source": [
    "df.groupby(['Product line'])['Total'].mean().reset_index()"
   ]
  },
  {
   "cell_type": "code",
   "execution_count": null,
   "id": "86714ec3-d021-48d2-be6e-b10f62553046",
   "metadata": {},
   "outputs": [],
   "source": []
  },
  {
   "cell_type": "markdown",
   "id": "87a15094-fff0-4d28-93cc-856c57c1e95a",
   "metadata": {},
   "source": [
    "#### Customer Demographics"
   ]
  },
  {
   "cell_type": "markdown",
   "id": "7f6a1c5a-20a4-4370-a9b4-661cf6233aa4",
   "metadata": {},
   "source": [
    "#### What is the distribution of customer types (Member vs. Normal)?"
   ]
  },
  {
   "cell_type": "code",
   "execution_count": 50,
   "id": "5673d6fe-1378-48bd-98f5-f926ceff163d",
   "metadata": {},
   "outputs": [
    {
     "data": {
      "image/png": "[encoded data removed]",
      "text/plain": [
       "<Figure size 640x480 with 1 Axes>"
      ]
     },
     "metadata": {},
     "output_type": "display_data"
    }
   ],
   "source": [
    "customer=df['Customer type'].value_counts()\n",
    "customer.plot(kind='pie',autopct='%.1f%%',explode=(0,0.2),shadow=True,colors=['pink','aqua'])\n",
    "plt.title(\"Customer Types is Distribution\")\n",
    "plt.show()"
   ]
  },
  {
   "cell_type": "markdown",
   "id": "55d3473f-5253-4a0f-9926-3c8e1e3f0c45",
   "metadata": {},
   "source": [
    "#### Do members or normal customers spend more on average?"
   ]
  },
  {
   "cell_type": "code",
   "execution_count": 52,
   "id": "e225cba8-5138-4403-94ed-6e771f26b236",
   "metadata": {},
   "outputs": [
    {
     "data": {
      "text/html": [
       "<div>\n",
       "<style scoped>\n",
       "    .dataframe tbody tr th:only-of-type {\n",
       "        vertical-align: middle;\n",
       "    }\n",
       "\n",
       "    .dataframe tbody tr th {\n",
       "        vertical-align: top;\n",
       "    }\n",
       "\n",
       "    .dataframe thead th {\n",
       "        text-align: right;\n",
       "    }\n",
       "</style>\n",
       "<table border=\"1\" class=\"dataframe\">\n",
       "  <thead>\n",
       "    <tr style=\"text-align: right;\">\n",
       "      <th></th>\n",
       "      <th>Customer type</th>\n",
       "      <th>Total</th>\n",
       "    </tr>\n",
       "  </thead>\n",
       "  <tbody>\n",
       "    <tr>\n",
       "      <th>0</th>\n",
       "      <td>Member</td>\n",
       "      <td>327.791305</td>\n",
       "    </tr>\n",
       "    <tr>\n",
       "      <th>1</th>\n",
       "      <td>Normal</td>\n",
       "      <td>318.122856</td>\n",
       "    </tr>\n",
       "  </tbody>\n",
       "</table>\n",
       "</div>"
      ],
      "text/plain": [
       "  Customer type       Total\n",
       "0        Member  327.791305\n",
       "1        Normal  318.122856"
      ]
     },
     "execution_count": 52,
     "metadata": {},
     "output_type": "execute_result"
    }
   ],
   "source": [
    "df.groupby(['Customer type'])['Total'].mean().reset_index()"
   ]
  },
  {
   "cell_type": "markdown",
   "id": "ab06763f-9106-4314-b292-4bf435abbdd5",
   "metadata": {},
   "source": [
    "#### What is the gender-wise distribution of transactions?"
   ]
  },
  {
   "cell_type": "code",
   "execution_count": 54,
   "id": "0aaaf6dc-8031-45af-b93a-992013bc627d",
   "metadata": {},
   "outputs": [
    {
     "data": {
      "text/html": [
       "<div>\n",
       "<style scoped>\n",
       "    .dataframe tbody tr th:only-of-type {\n",
       "        vertical-align: middle;\n",
       "    }\n",
       "\n",
       "    .dataframe tbody tr th {\n",
       "        vertical-align: top;\n",
       "    }\n",
       "\n",
       "    .dataframe thead th {\n",
       "        text-align: right;\n",
       "    }\n",
       "</style>\n",
       "<table border=\"1\" class=\"dataframe\">\n",
       "  <thead>\n",
       "    <tr style=\"text-align: right;\">\n",
       "      <th></th>\n",
       "      <th>Gender</th>\n",
       "      <th>Total</th>\n",
       "    </tr>\n",
       "  </thead>\n",
       "  <tbody>\n",
       "    <tr>\n",
       "      <th>0</th>\n",
       "      <td>Female</td>\n",
       "      <td>167882.925</td>\n",
       "    </tr>\n",
       "    <tr>\n",
       "      <th>1</th>\n",
       "      <td>Male</td>\n",
       "      <td>155083.824</td>\n",
       "    </tr>\n",
       "  </tbody>\n",
       "</table>\n",
       "</div>"
      ],
      "text/plain": [
       "   Gender       Total\n",
       "0  Female  167882.925\n",
       "1    Male  155083.824"
      ]
     },
     "execution_count": 54,
     "metadata": {},
     "output_type": "execute_result"
    }
   ],
   "source": [
    "df.groupby(['Gender'])['Total'].sum().reset_index()"
   ]
  },
  {
   "cell_type": "markdown",
   "id": "f4f80537-485e-4af0-8eed-cd6c655aad67",
   "metadata": {},
   "source": [
    "#### Does gender influence the average rating given by customers?"
   ]
  },
  {
   "cell_type": "code",
   "execution_count": 56,
   "id": "84daafab-8901-4045-8da6-410c5102b2d7",
   "metadata": {},
   "outputs": [
    {
     "data": {
      "text/html": [
       "<div>\n",
       "<style scoped>\n",
       "    .dataframe tbody tr th:only-of-type {\n",
       "        vertical-align: middle;\n",
       "    }\n",
       "\n",
       "    .dataframe tbody tr th {\n",
       "        vertical-align: top;\n",
       "    }\n",
       "\n",
       "    .dataframe thead th {\n",
       "        text-align: right;\n",
       "    }\n",
       "</style>\n",
       "<table border=\"1\" class=\"dataframe\">\n",
       "  <thead>\n",
       "    <tr style=\"text-align: right;\">\n",
       "      <th></th>\n",
       "      <th>Gender</th>\n",
       "      <th>Rating</th>\n",
       "    </tr>\n",
       "  </thead>\n",
       "  <tbody>\n",
       "    <tr>\n",
       "      <th>0</th>\n",
       "      <td>Female</td>\n",
       "      <td>6.964471</td>\n",
       "    </tr>\n",
       "    <tr>\n",
       "      <th>1</th>\n",
       "      <td>Male</td>\n",
       "      <td>6.980962</td>\n",
       "    </tr>\n",
       "  </tbody>\n",
       "</table>\n",
       "</div>"
      ],
      "text/plain": [
       "   Gender    Rating\n",
       "0  Female  6.964471\n",
       "1    Male  6.980962"
      ]
     },
     "execution_count": 56,
     "metadata": {},
     "output_type": "execute_result"
    }
   ],
   "source": [
    "df.groupby(['Gender'])['Rating'].mean().reset_index()"
   ]
  },
  {
   "cell_type": "markdown",
   "id": "78c770a1-3039-4580-b096-95856dbbb5f9",
   "metadata": {},
   "source": [
    "#### Payment Methods"
   ]
  },
  {
   "cell_type": "markdown",
   "id": "32f72922-eae4-4010-96ae-b275be9b60ab",
   "metadata": {},
   "source": [
    "#### What is the most frequently used payment method?"
   ]
  },
  {
   "cell_type": "code",
   "execution_count": 59,
   "id": "59c3e110-0346-47e2-8f4e-daaaf4e8030b",
   "metadata": {},
   "outputs": [
    {
     "data": {
      "image/png": "[encoded data removed]",
      "text/plain": [
       "<Figure size 640x480 with 1 Axes>"
      ]
     },
     "metadata": {},
     "output_type": "display_data"
    }
   ],
   "source": [
    "frequently=df['Payment'].value_counts()\n",
    "frequently.plot(kind='pie',autopct='%.1f%%',explode=(0.2,0,0),shadow=True,colors=['pink','aqua','red'])\n",
    "plt.title(\"Frequently Usee Payment\")\n",
    "plt.show()"
   ]
  },
  {
   "cell_type": "markdown",
   "id": "1c1c57cb-6878-47c0-bb7a-02de8b0f43d4",
   "metadata": {},
   "source": [
    "###### <per> Frequently Usee Payment Ewallet Count= 345 and per% Values is 34.5 <per>"
   ]
  },
  {
   "cell_type": "markdown",
   "id": "b882a688-3774-4472-8c05-59646d9c46d7",
   "metadata": {},
   "source": [
    "#### Which payment method contributes the most to the total revenue?"
   ]
  },
  {
   "cell_type": "code",
   "execution_count": 62,
   "id": "115217a4-d2aa-499d-8730-01137c053d96",
   "metadata": {},
   "outputs": [
    {
     "data": {
      "text/html": [
       "<div>\n",
       "<style scoped>\n",
       "    .dataframe tbody tr th:only-of-type {\n",
       "        vertical-align: middle;\n",
       "    }\n",
       "\n",
       "    .dataframe tbody tr th {\n",
       "        vertical-align: top;\n",
       "    }\n",
       "\n",
       "    .dataframe thead th {\n",
       "        text-align: right;\n",
       "    }\n",
       "</style>\n",
       "<table border=\"1\" class=\"dataframe\">\n",
       "  <thead>\n",
       "    <tr style=\"text-align: right;\">\n",
       "      <th></th>\n",
       "      <th>Payment</th>\n",
       "      <th>Total</th>\n",
       "    </tr>\n",
       "  </thead>\n",
       "  <tbody>\n",
       "    <tr>\n",
       "      <th>0</th>\n",
       "      <td>Cash</td>\n",
       "      <td>112206.570</td>\n",
       "    </tr>\n",
       "    <tr>\n",
       "      <th>1</th>\n",
       "      <td>Credit card</td>\n",
       "      <td>100767.072</td>\n",
       "    </tr>\n",
       "    <tr>\n",
       "      <th>2</th>\n",
       "      <td>Ewallet</td>\n",
       "      <td>109993.107</td>\n",
       "    </tr>\n",
       "  </tbody>\n",
       "</table>\n",
       "</div>"
      ],
      "text/plain": [
       "       Payment       Total\n",
       "0         Cash  112206.570\n",
       "1  Credit card  100767.072\n",
       "2      Ewallet  109993.107"
      ]
     },
     "execution_count": 62,
     "metadata": {},
     "output_type": "execute_result"
    }
   ],
   "source": [
    "df.groupby(['Payment'])['Total'].sum().reset_index()"
   ]
  },
  {
   "cell_type": "markdown",
   "id": "11759912-8391-46d7-828c-3af18cceb1c9",
   "metadata": {},
   "source": [
    "###### <per> Payment Method Contributes in Cash = 112206.570  <pre>"
   ]
  },
  {
   "cell_type": "markdown",
   "id": "670ca8fe-0dff-4cb7-8911-445e80690e80",
   "metadata": {},
   "source": [
    "#### Time and Date Analysis"
   ]
  },
  {
   "cell_type": "markdown",
   "id": "77e1387a-1fdf-4035-bf2d-0fd8db1a0713",
   "metadata": {},
   "source": [
    "#### On which date were the most sales made?"
   ]
  },
  {
   "cell_type": "code",
   "execution_count": 66,
   "id": "51011bc9-4916-44b9-b2c7-502698fbe3ec",
   "metadata": {},
   "outputs": [],
   "source": [
    "Date_sales=df.groupby(['Date'])['Total'].sum().reset_index()"
   ]
  },
  {
   "cell_type": "code",
   "execution_count": 67,
   "id": "df564af2-770b-40fb-ac3b-4249f63e96db",
   "metadata": {},
   "outputs": [
    {
     "data": {
      "text/html": [
       "<div>\n",
       "<style scoped>\n",
       "    .dataframe tbody tr th:only-of-type {\n",
       "        vertical-align: middle;\n",
       "    }\n",
       "\n",
       "    .dataframe tbody tr th {\n",
       "        vertical-align: top;\n",
       "    }\n",
       "\n",
       "    .dataframe thead th {\n",
       "        text-align: right;\n",
       "    }\n",
       "</style>\n",
       "<table border=\"1\" class=\"dataframe\">\n",
       "  <thead>\n",
       "    <tr style=\"text-align: right;\">\n",
       "      <th></th>\n",
       "      <th>Date</th>\n",
       "      <th>Total</th>\n",
       "    </tr>\n",
       "  </thead>\n",
       "  <tbody>\n",
       "    <tr>\n",
       "      <th>25</th>\n",
       "      <td>2019-01-26</td>\n",
       "      <td>4457.5125</td>\n",
       "    </tr>\n",
       "    <tr>\n",
       "      <th>28</th>\n",
       "      <td>2019-01-29</td>\n",
       "      <td>3516.5655</td>\n",
       "    </tr>\n",
       "    <tr>\n",
       "      <th>31</th>\n",
       "      <td>2019-02-01</td>\n",
       "      <td>2444.5365</td>\n",
       "    </tr>\n",
       "    <tr>\n",
       "      <th>34</th>\n",
       "      <td>2019-02-04</td>\n",
       "      <td>2439.4965</td>\n",
       "    </tr>\n",
       "    <tr>\n",
       "      <th>37</th>\n",
       "      <td>2019-02-07</td>\n",
       "      <td>7228.2105</td>\n",
       "    </tr>\n",
       "    <tr>\n",
       "      <th>40</th>\n",
       "      <td>2019-02-10</td>\n",
       "      <td>3141.0225</td>\n",
       "    </tr>\n",
       "    <tr>\n",
       "      <th>43</th>\n",
       "      <td>2019-02-13</td>\n",
       "      <td>934.2375</td>\n",
       "    </tr>\n",
       "    <tr>\n",
       "      <th>46</th>\n",
       "      <td>2019-02-16</td>\n",
       "      <td>2503.7670</td>\n",
       "    </tr>\n",
       "    <tr>\n",
       "      <th>49</th>\n",
       "      <td>2019-02-19</td>\n",
       "      <td>4228.1190</td>\n",
       "    </tr>\n",
       "  </tbody>\n",
       "</table>\n",
       "</div>"
      ],
      "text/plain": [
       "         Date      Total\n",
       "25 2019-01-26  4457.5125\n",
       "28 2019-01-29  3516.5655\n",
       "31 2019-02-01  2444.5365\n",
       "34 2019-02-04  2439.4965\n",
       "37 2019-02-07  7228.2105\n",
       "40 2019-02-10  3141.0225\n",
       "43 2019-02-13   934.2375\n",
       "46 2019-02-16  2503.7670\n",
       "49 2019-02-19  4228.1190"
      ]
     },
     "execution_count": 67,
     "metadata": {},
     "output_type": "execute_result"
    }
   ],
   "source": [
    "Date_sales.iloc[25:50:3]"
   ]
  },
  {
   "cell_type": "code",
   "execution_count": 68,
   "id": "57bacbdd-0b96-448a-a746-8f413336c54d",
   "metadata": {},
   "outputs": [
    {
     "data": {
      "text/plain": [
       "Date     88\n",
       "Total    67\n",
       "dtype: int64"
      ]
     },
     "execution_count": 68,
     "metadata": {},
     "output_type": "execute_result"
    }
   ],
   "source": [
    "Date_sales.idxmax()"
   ]
  },
  {
   "cell_type": "code",
   "execution_count": 69,
   "id": "7090424f-de62-4c79-b743-442bdf20d588",
   "metadata": {},
   "outputs": [
    {
     "data": {
      "text/html": [
       "<div>\n",
       "<style scoped>\n",
       "    .dataframe tbody tr th:only-of-type {\n",
       "        vertical-align: middle;\n",
       "    }\n",
       "\n",
       "    .dataframe tbody tr th {\n",
       "        vertical-align: top;\n",
       "    }\n",
       "\n",
       "    .dataframe thead th {\n",
       "        text-align: right;\n",
       "    }\n",
       "</style>\n",
       "<table border=\"1\" class=\"dataframe\">\n",
       "  <thead>\n",
       "    <tr style=\"text-align: right;\">\n",
       "      <th></th>\n",
       "      <th>index</th>\n",
       "      <th>0</th>\n",
       "    </tr>\n",
       "  </thead>\n",
       "  <tbody>\n",
       "    <tr>\n",
       "      <th>0</th>\n",
       "      <td>Date</td>\n",
       "      <td>2019-03-30 00:00:00</td>\n",
       "    </tr>\n",
       "    <tr>\n",
       "      <th>1</th>\n",
       "      <td>Total</td>\n",
       "      <td>7474.047</td>\n",
       "    </tr>\n",
       "  </tbody>\n",
       "</table>\n",
       "</div>"
      ],
      "text/plain": [
       "   index                    0\n",
       "0   Date  2019-03-30 00:00:00\n",
       "1  Total             7474.047"
      ]
     },
     "execution_count": 69,
     "metadata": {},
     "output_type": "execute_result"
    }
   ],
   "source": [
    "Date_sales.max().reset_index()"
   ]
  },
  {
   "cell_type": "markdown",
   "id": "71beb703-2535-4b9e-ba20-32a013cb0314",
   "metadata": {},
   "source": [
    "###### <per> On which date were the most sales made in Date = 2019-03-30 and Total Sales = 7474.047 <per>"
   ]
  },
  {
   "cell_type": "markdown",
   "id": "aa110987-27c6-43aa-9f4f-254fb8c52f75",
   "metadata": {},
   "source": [
    "#### Q) What is the peak time for sales based on transaction times?"
   ]
  },
  {
   "cell_type": "code",
   "execution_count": 72,
   "id": "839c7644-a92c-4434-a729-0692c11e919d",
   "metadata": {},
   "outputs": [
    {
     "name": "stderr",
     "output_type": "stream",
     "text": [
      "C:\\Users\\RAHUL\\AppData\\Local\\Temp\\ipykernel_6592\\4168410265.py:1: UserWarning: Could not infer format, so each element will be parsed individually, falling back to `dateutil`. To ensure parsing is consistent and as-expected, please specify a format.\n",
      "  df['Hour']=pd.to_datetime(df['Time']).dt.hour\n"
     ]
    }
   ],
   "source": [
    "df['Hour']=pd.to_datetime(df['Time']).dt.hour"
   ]
  },
  {
   "cell_type": "code",
   "execution_count": 73,
   "id": "f558477f-de4f-4413-a42f-1286f246c66e",
   "metadata": {},
   "outputs": [
    {
     "name": "stdout",
     "output_type": "stream",
     "text": [
      "Hour\n",
      "10    31421.4810\n",
      "11    30377.3295\n",
      "12    26065.8825\n",
      "13    34723.2270\n",
      "14    30828.3990\n",
      "15    31179.5085\n",
      "16    25226.3235\n",
      "17    24445.2180\n",
      "18    26030.3400\n",
      "19    39699.5130\n",
      "20    22969.5270\n",
      "Name: Total, dtype: float64\n"
     ]
    }
   ],
   "source": [
    "hour=df.groupby(['Hour'])['Total'].sum()\n",
    "print(hour)"
   ]
  },
  {
   "cell_type": "code",
   "execution_count": 74,
   "id": "aa0bd58e-28f7-4e30-9b9d-33d345610c0e",
   "metadata": {},
   "outputs": [
    {
     "data": {
      "text/plain": [
       "39699.513"
      ]
     },
     "execution_count": 74,
     "metadata": {},
     "output_type": "execute_result"
    }
   ],
   "source": [
    "hour.max()"
   ]
  },
  {
   "cell_type": "code",
   "execution_count": 75,
   "id": "bc4f6433-f812-4347-a321-4d9b592e596d",
   "metadata": {},
   "outputs": [
    {
     "data": {
      "image/png": "[encoded data removed]",
      "text/plain": [
       "<Figure size 640x480 with 1 Axes>"
      ]
     },
     "metadata": {},
     "output_type": "display_data"
    }
   ],
   "source": [
    "hour.plot(kind='line',color='red',marker='*', linestyle='dashed',lw=2,label='Date_Salels')\n",
    "plt.xlabel('Hour Time',color='maroon',size=12)\n",
    "plt.ylabel('Total Sales',color='maroon',size=12)\n",
    "plt.title('Peak time for sales based on Transaction',color='blue',size=15,fontname='comic sans ms')\n",
    "plt.legend(loc=2)\n",
    "plt.grid()\n",
    "plt.show()"
   ]
  },
  {
   "cell_type": "markdown",
   "id": "b3032986-f828-4eb1-97e6-6c66dffea117",
   "metadata": {},
   "source": [
    "###### <per> What is the peak time for sales based on transaction times in highest time in 19 Hour and Sales is =39699.513 <per>"
   ]
  },
  {
   "cell_type": "markdown",
   "id": "fc183e0c-9157-4363-b34c-17ca304c9d4b",
   "metadata": {},
   "source": [
    "#### Are weekends more profitable than weekdays?"
   ]
  },
  {
   "cell_type": "code",
   "execution_count": 78,
   "id": "8a63fc4a-17ad-46c8-94fd-8c636bd12d0a",
   "metadata": {},
   "outputs": [],
   "source": [
    "df['Weekday']=df['Date'].dt.dayofweek"
   ]
  },
  {
   "cell_type": "code",
   "execution_count": 79,
   "id": "5cb3c0ed-3e75-42b3-b7c2-7444f299d838",
   "metadata": {},
   "outputs": [],
   "source": [
    "df['Day Type']=df['Weekday'].apply(lambda x: 'weekend' if x >= 5 else 'Weekday')    # create the columns in 'day Type'"
   ]
  },
  {
   "cell_type": "code",
   "execution_count": 80,
   "id": "1c668e22-dee1-4746-8037-f04c44bfc049",
   "metadata": {},
   "outputs": [
    {
     "name": "stdout",
     "output_type": "stream",
     "text": [
      "Day Type\n",
      "Weekday    222388.047\n",
      "weekend    100578.702\n",
      "Name: Total, dtype: float64\n"
     ]
    }
   ],
   "source": [
    "week=df.groupby(['Day Type'])['Total'].sum()\n",
    "print(week)"
   ]
  },
  {
   "cell_type": "code",
   "execution_count": 81,
   "id": "342ceac8-de02-4185-843e-098a9ddd4f28",
   "metadata": {},
   "outputs": [
    {
     "data": {
      "image/png": "[encoded data removed]",
      "text/plain": [
       "<Figure size 640x480 with 1 Axes>"
      ]
     },
     "metadata": {},
     "output_type": "display_data"
    }
   ],
   "source": [
    "nm=week.plot(kind='bar',color='orange',label='Sales',edgecolor='black',width=0.7)\n",
    "for i in nm.containers:\n",
    "    nm.bar_label(i)\n",
    "plt.xlabel('Day Name',color='maroon',size=12)\n",
    "plt.ylabel('Total Sales',color='maroon',size=12)\n",
    "plt.title('Total Sales Weekand vs Weekday',color='blue',size=15,fontname='comic sans ms')\n",
    "plt.legend(loc=1)\n",
    "plt.show()"
   ]
  },
  {
   "cell_type": "markdown",
   "id": "e15fbd3f-c5a8-4fa8-acdb-de24e329e830",
   "metadata": {},
   "source": [
    "#### Month Wise total Sales in this data "
   ]
  },
  {
   "cell_type": "code",
   "execution_count": 83,
   "id": "c11fb553-d266-436c-840a-81ea4c78c1b5",
   "metadata": {},
   "outputs": [
    {
     "data": {
      "text/plain": [
       "Month_Name\n",
       "January     116291.868\n",
       "March       109455.507\n",
       "February     97219.374\n",
       "Name: Total, dtype: float64"
      ]
     },
     "execution_count": 83,
     "metadata": {},
     "output_type": "execute_result"
    }
   ],
   "source": [
    "month=df.groupby(['Month_Name'])['Total'].sum().sort_values(ascending=False)\n",
    "month"
   ]
  },
  {
   "cell_type": "code",
   "execution_count": 84,
   "id": "f00834e3-ca36-4595-a4b2-a2aa5b3853d0",
   "metadata": {},
   "outputs": [
    {
     "data": {
      "image/png": "[encoded data removed]",
      "text/plain": [
       "<Figure size 640x480 with 1 Axes>"
      ]
     },
     "metadata": {},
     "output_type": "display_data"
    }
   ],
   "source": [
    "nm=month.plot(kind='bar',color='maroon',label='Sales',edgecolor='black',width=0.7)\n",
    "for i in nm.containers:\n",
    "    nm.bar_label(i)\n",
    "plt.xlabel('Month Nmae',color='maroon',size=12)\n",
    "plt.ylabel('Total Sales',color='maroon',size=12)\n",
    "plt.title('Total Sales Month',color='blue',size=15,fontname='comic sans ms')\n",
    "plt.show()"
   ]
  },
  {
   "cell_type": "markdown",
   "id": "0f47febe-fc7a-4b37-afb3-d34207dce1a2",
   "metadata": {},
   "source": [
    "#### Tax and Income Analysis"
   ]
  },
  {
   "cell_type": "markdown",
   "id": "0e821d32-9d46-4ad9-ab5c-a82c8720b208",
   "metadata": {},
   "source": [
    "#### What is the total tax collected from all transactions?"
   ]
  },
  {
   "cell_type": "code",
   "execution_count": 87,
   "id": "02da21d8-92cf-40d1-b8ed-b00617061c30",
   "metadata": {},
   "outputs": [
    {
     "data": {
      "text/plain": [
       "15379.368999999999"
      ]
     },
     "execution_count": 87,
     "metadata": {},
     "output_type": "execute_result"
    }
   ],
   "source": [
    "df['Tax 5%'].sum()"
   ]
  },
  {
   "cell_type": "markdown",
   "id": "aa1e15f8-d010-4bd3-98a8-be601d41ec23",
   "metadata": {},
   "source": [
    "#### What is the total gross income generated?"
   ]
  },
  {
   "cell_type": "code",
   "execution_count": 89,
   "id": "16e18c2d-e3ce-4510-9e4b-5ad7ba6b6e3f",
   "metadata": {},
   "outputs": [
    {
     "data": {
      "text/plain": [
       "15379.368999999999"
      ]
     },
     "execution_count": 89,
     "metadata": {},
     "output_type": "execute_result"
    }
   ],
   "source": [
    "df['gross income'].sum()"
   ]
  },
  {
   "cell_type": "markdown",
   "id": "b53771f2-d015-4e51-b380-c72463b7da21",
   "metadata": {},
   "source": [
    "#### Advanced Metrics"
   ]
  },
  {
   "cell_type": "markdown",
   "id": "2dbfe3f7-b542-45af-82db-354d3db46ca0",
   "metadata": {},
   "source": [
    "#### What is the correlation between unit price and customer rating?"
   ]
  },
  {
   "cell_type": "code",
   "execution_count": 92,
   "id": "66157681-6f06-4929-b828-95aaaeaa9bda",
   "metadata": {},
   "outputs": [
    {
     "data": {
      "text/html": [
       "<div>\n",
       "<style scoped>\n",
       "    .dataframe tbody tr th:only-of-type {\n",
       "        vertical-align: middle;\n",
       "    }\n",
       "\n",
       "    .dataframe tbody tr th {\n",
       "        vertical-align: top;\n",
       "    }\n",
       "\n",
       "    .dataframe thead th {\n",
       "        text-align: right;\n",
       "    }\n",
       "</style>\n",
       "<table border=\"1\" class=\"dataframe\">\n",
       "  <thead>\n",
       "    <tr style=\"text-align: right;\">\n",
       "      <th></th>\n",
       "      <th>Total</th>\n",
       "      <th>Rating</th>\n",
       "    </tr>\n",
       "  </thead>\n",
       "  <tbody>\n",
       "    <tr>\n",
       "      <th>Total</th>\n",
       "      <td>1.000000</td>\n",
       "      <td>-0.036442</td>\n",
       "    </tr>\n",
       "    <tr>\n",
       "      <th>Rating</th>\n",
       "      <td>-0.036442</td>\n",
       "      <td>1.000000</td>\n",
       "    </tr>\n",
       "  </tbody>\n",
       "</table>\n",
       "</div>"
      ],
      "text/plain": [
       "           Total    Rating\n",
       "Total   1.000000 -0.036442\n",
       "Rating -0.036442  1.000000"
      ]
     },
     "execution_count": 92,
     "metadata": {},
     "output_type": "execute_result"
    }
   ],
   "source": [
    "correlation= df[['Total','Rating']].corr()\n",
    "correlation"
   ]
  },
  {
   "cell_type": "code",
   "execution_count": 93,
   "id": "1faa8159-6d47-412e-8708-ebb0af7d057d",
   "metadata": {},
   "outputs": [
    {
     "data": {
      "image/png": "[encoded data removed]",
      "text/plain": [
       "<Figure size 640x480 with 2 Axes>"
      ]
     },
     "metadata": {},
     "output_type": "display_data"
    }
   ],
   "source": [
    "sns.heatmap(correlation,annot=True,cmap='coolwarm', fmt=\".2f\")\n",
    "plt.show()"
   ]
  },
  {
   "cell_type": "markdown",
   "id": "fe3b2932-c50e-4099-8fab-682ce0dd8a91",
   "metadata": {},
   "source": [
    "#### Which branch has the highest average gross income per transaction?"
   ]
  },
  {
   "cell_type": "code",
   "execution_count": 95,
   "id": "6de32330-d92f-4a8a-84d8-d1203a31bd42",
   "metadata": {},
   "outputs": [
    {
     "name": "stdout",
     "output_type": "stream",
     "text": [
      "Branch  Payment    \n",
      "C       Cash           43085.8575\n",
      "A       Ewallet        39324.3690\n",
      "B       Credit card    37344.8565\n",
      "C       Ewallet        37155.3840\n",
      "B       Cash           35339.4615\n",
      "A       Cash           33781.2510\n",
      "B       Ewallet        33513.3540\n",
      "A       Credit card    33094.7505\n",
      "C       Credit card    30327.4650\n",
      "Name: Total, dtype: float64\n"
     ]
    }
   ],
   "source": [
    "gross=df.groupby(['Branch','Payment'])['Total'].sum().sort_values(ascending=False)\n",
    "print(gross)"
   ]
  },
  {
   "cell_type": "code",
   "execution_count": 96,
   "id": "cf518e53-cf5a-4f31-8853-e3b498c2618c",
   "metadata": {},
   "outputs": [
    {
     "data": {
      "image/png": "[encoded data removed]",
      "text/plain": [
       "<Figure size 640x480 with 1 Axes>"
      ]
     },
     "metadata": {},
     "output_type": "display_data"
    }
   ],
   "source": [
    "nm=gross.plot(kind='bar',color='orange',label='Sales',edgecolor='black',width=0.7)\n",
    "for i in nm.containers:\n",
    "    nm.bar_label(i)\n",
    "plt.xlabel('Name Branch and Payment',color='maroon',size=12)\n",
    "plt.ylabel('Total Sales',color='maroon',size=12)\n",
    "plt.title('Total Sales in Brand and Payment',color='blue',size=15,fontname='comic sans ms')\n",
    "plt.legend(loc=1)\n",
    "plt.show()"
   ]
  },
  {
   "cell_type": "markdown",
   "id": "215f4a4a-3e2a-4244-8519-599f16275063",
   "metadata": {},
   "source": [
    "#### Is there a relationship between payment method and customer rating?"
   ]
  },
  {
   "cell_type": "code",
   "execution_count": 98,
   "id": "db65d069-9045-474d-b8a4-530914725995",
   "metadata": {},
   "outputs": [
    {
     "data": {
      "image/png": "[encoded data removed]",
      "text/plain": [
       "<Figure size 640x480 with 1 Axes>"
      ]
     },
     "metadata": {},
     "output_type": "display_data"
    }
   ],
   "source": [
    "sns.boxplot(data=df, x='Payment',y='Rating',palette='Set2')\n",
    "plt.title('Relationship Between Payment Method and Customer Rating')\n",
    "plt.xlabel('Payment Method')\n",
    "plt.ylabel('Customer Rating')\n",
    "plt.xticks(rotation=45)\n",
    "plt.tight_layout()\n",
    "plt.show()"
   ]
  },
  {
   "cell_type": "code",
   "execution_count": 99,
   "id": "96aacad4-b138-4fe6-a422-b72db3b11ef1",
   "metadata": {},
   "outputs": [
    {
     "name": "stderr",
     "output_type": "stream",
     "text": [
      "C:\\Users\\RAHUL\\anaconda3\\Lib\\site-packages\\seaborn\\_oldcore.py:1119: FutureWarning: use_inf_as_na option is deprecated and will be removed in a future version. Convert inf values to NaN before operating instead.\n",
      "  with pd.option_context('mode.use_inf_as_na', True):\n"
     ]
    },
    {
     "data": {
      "image/png": "[encoded data removed]",
      "text/plain": [
       "<Figure size 640x480 with 1 Axes>"
      ]
     },
     "metadata": {},
     "output_type": "display_data"
    }
   ],
   "source": [
    "sns.histplot(x=df['Total'],kde=True)\n",
    "plt.show()"
   ]
  },
  {
   "cell_type": "code",
   "execution_count": 100,
   "id": "b0a91f08-2f21-4a57-a2a4-f5476ba61a29",
   "metadata": {},
   "outputs": [
    {
     "name": "stderr",
     "output_type": "stream",
     "text": [
      "C:\\Users\\RAHUL\\anaconda3\\Lib\\site-packages\\seaborn\\_oldcore.py:1119: FutureWarning: use_inf_as_na option is deprecated and will be removed in a future version. Convert inf values to NaN before operating instead.\n",
      "  with pd.option_context('mode.use_inf_as_na', True):\n"
     ]
    },
    {
     "data": {
      "image/png": "[encoded data removed]",
      "text/plain": [
       "<Figure size 640x480 with 1 Axes>"
      ]
     },
     "metadata": {},
     "output_type": "display_data"
    }
   ],
   "source": [
    "sns.histplot(x=df['Rating'],kde=True)\n",
    "plt.show()"
   ]
  },
  {
   "cell_type": "code",
   "execution_count": 101,
   "id": "311cd977-a1b7-42f4-8768-ae5895425229",
   "metadata": {},
   "outputs": [
    {
     "data": {
      "text/html": [
       "<div>\n",
       "<style scoped>\n",
       "    .dataframe tbody tr th:only-of-type {\n",
       "        vertical-align: middle;\n",
       "    }\n",
       "\n",
       "    .dataframe tbody tr th {\n",
       "        vertical-align: top;\n",
       "    }\n",
       "\n",
       "    .dataframe thead th {\n",
       "        text-align: right;\n",
       "    }\n",
       "</style>\n",
       "<table border=\"1\" class=\"dataframe\">\n",
       "  <thead>\n",
       "    <tr style=\"text-align: right;\">\n",
       "      <th></th>\n",
       "      <th>count</th>\n",
       "      <th>mean</th>\n",
       "      <th>min</th>\n",
       "      <th>25%</th>\n",
       "      <th>50%</th>\n",
       "      <th>75%</th>\n",
       "      <th>max</th>\n",
       "      <th>std</th>\n",
       "    </tr>\n",
       "  </thead>\n",
       "  <tbody>\n",
       "    <tr>\n",
       "      <th>Unit price</th>\n",
       "      <td>1000.0</td>\n",
       "      <td>55.67213</td>\n",
       "      <td>10.08</td>\n",
       "      <td>32.875</td>\n",
       "      <td>55.23</td>\n",
       "      <td>77.935</td>\n",
       "      <td>99.96</td>\n",
       "      <td>26.494628</td>\n",
       "    </tr>\n",
       "    <tr>\n",
       "      <th>Quantity</th>\n",
       "      <td>1000.0</td>\n",
       "      <td>5.51</td>\n",
       "      <td>1.0</td>\n",
       "      <td>3.0</td>\n",
       "      <td>5.0</td>\n",
       "      <td>8.0</td>\n",
       "      <td>10.0</td>\n",
       "      <td>2.923431</td>\n",
       "    </tr>\n",
       "    <tr>\n",
       "      <th>Tax 5%</th>\n",
       "      <td>1000.0</td>\n",
       "      <td>15.379369</td>\n",
       "      <td>0.5085</td>\n",
       "      <td>5.924875</td>\n",
       "      <td>12.088</td>\n",
       "      <td>22.44525</td>\n",
       "      <td>49.65</td>\n",
       "      <td>11.708825</td>\n",
       "    </tr>\n",
       "    <tr>\n",
       "      <th>Total</th>\n",
       "      <td>1000.0</td>\n",
       "      <td>322.966749</td>\n",
       "      <td>10.6785</td>\n",
       "      <td>124.422375</td>\n",
       "      <td>253.848</td>\n",
       "      <td>471.35025</td>\n",
       "      <td>1042.65</td>\n",
       "      <td>245.885335</td>\n",
       "    </tr>\n",
       "    <tr>\n",
       "      <th>Date</th>\n",
       "      <td>1000</td>\n",
       "      <td>2019-02-14 00:05:45.600000</td>\n",
       "      <td>2019-01-01 00:00:00</td>\n",
       "      <td>2019-01-24 00:00:00</td>\n",
       "      <td>2019-02-13 00:00:00</td>\n",
       "      <td>2019-03-08 00:00:00</td>\n",
       "      <td>2019-03-30 00:00:00</td>\n",
       "      <td>NaN</td>\n",
       "    </tr>\n",
       "    <tr>\n",
       "      <th>cogs</th>\n",
       "      <td>1000.0</td>\n",
       "      <td>307.58738</td>\n",
       "      <td>10.17</td>\n",
       "      <td>118.4975</td>\n",
       "      <td>241.76</td>\n",
       "      <td>448.905</td>\n",
       "      <td>993.0</td>\n",
       "      <td>234.17651</td>\n",
       "    </tr>\n",
       "    <tr>\n",
       "      <th>gross margin percentage</th>\n",
       "      <td>1000.0</td>\n",
       "      <td>4.761905</td>\n",
       "      <td>4.761905</td>\n",
       "      <td>4.761905</td>\n",
       "      <td>4.761905</td>\n",
       "      <td>4.761905</td>\n",
       "      <td>4.761905</td>\n",
       "      <td>0.0</td>\n",
       "    </tr>\n",
       "    <tr>\n",
       "      <th>gross income</th>\n",
       "      <td>1000.0</td>\n",
       "      <td>15.379369</td>\n",
       "      <td>0.5085</td>\n",
       "      <td>5.924875</td>\n",
       "      <td>12.088</td>\n",
       "      <td>22.44525</td>\n",
       "      <td>49.65</td>\n",
       "      <td>11.708825</td>\n",
       "    </tr>\n",
       "    <tr>\n",
       "      <th>Rating</th>\n",
       "      <td>1000.0</td>\n",
       "      <td>6.9727</td>\n",
       "      <td>4.0</td>\n",
       "      <td>5.5</td>\n",
       "      <td>7.0</td>\n",
       "      <td>8.5</td>\n",
       "      <td>10.0</td>\n",
       "      <td>1.71858</td>\n",
       "    </tr>\n",
       "    <tr>\n",
       "      <th>Year</th>\n",
       "      <td>1000.0</td>\n",
       "      <td>2019.0</td>\n",
       "      <td>2019.0</td>\n",
       "      <td>2019.0</td>\n",
       "      <td>2019.0</td>\n",
       "      <td>2019.0</td>\n",
       "      <td>2019.0</td>\n",
       "      <td>0.0</td>\n",
       "    </tr>\n",
       "    <tr>\n",
       "      <th>Month</th>\n",
       "      <td>1000.0</td>\n",
       "      <td>1.993</td>\n",
       "      <td>1.0</td>\n",
       "      <td>1.0</td>\n",
       "      <td>2.0</td>\n",
       "      <td>3.0</td>\n",
       "      <td>3.0</td>\n",
       "      <td>0.835254</td>\n",
       "    </tr>\n",
       "    <tr>\n",
       "      <th>Quarter</th>\n",
       "      <td>1000.0</td>\n",
       "      <td>1.0</td>\n",
       "      <td>1.0</td>\n",
       "      <td>1.0</td>\n",
       "      <td>1.0</td>\n",
       "      <td>1.0</td>\n",
       "      <td>1.0</td>\n",
       "      <td>0.0</td>\n",
       "    </tr>\n",
       "    <tr>\n",
       "      <th>Day</th>\n",
       "      <td>1000.0</td>\n",
       "      <td>15.256</td>\n",
       "      <td>1.0</td>\n",
       "      <td>8.0</td>\n",
       "      <td>15.0</td>\n",
       "      <td>23.0</td>\n",
       "      <td>31.0</td>\n",
       "      <td>8.693563</td>\n",
       "    </tr>\n",
       "    <tr>\n",
       "      <th>Hour</th>\n",
       "      <td>1000.0</td>\n",
       "      <td>14.91</td>\n",
       "      <td>10.0</td>\n",
       "      <td>12.0</td>\n",
       "      <td>15.0</td>\n",
       "      <td>18.0</td>\n",
       "      <td>20.0</td>\n",
       "      <td>3.186857</td>\n",
       "    </tr>\n",
       "    <tr>\n",
       "      <th>Weekday</th>\n",
       "      <td>1000.0</td>\n",
       "      <td>3.032</td>\n",
       "      <td>0.0</td>\n",
       "      <td>1.0</td>\n",
       "      <td>3.0</td>\n",
       "      <td>5.0</td>\n",
       "      <td>6.0</td>\n",
       "      <td>1.973543</td>\n",
       "    </tr>\n",
       "  </tbody>\n",
       "</table>\n",
       "</div>"
      ],
      "text/plain": [
       "                          count                        mean  \\\n",
       "Unit price               1000.0                    55.67213   \n",
       "Quantity                 1000.0                        5.51   \n",
       "Tax 5%                   1000.0                   15.379369   \n",
       "Total                    1000.0                  322.966749   \n",
       "Date                       1000  2019-02-14 00:05:45.600000   \n",
       "cogs                     1000.0                   307.58738   \n",
       "gross margin percentage  1000.0                    4.761905   \n",
       "gross income             1000.0                   15.379369   \n",
       "Rating                   1000.0                      6.9727   \n",
       "Year                     1000.0                      2019.0   \n",
       "Month                    1000.0                       1.993   \n",
       "Quarter                  1000.0                         1.0   \n",
       "Day                      1000.0                      15.256   \n",
       "Hour                     1000.0                       14.91   \n",
       "Weekday                  1000.0                       3.032   \n",
       "\n",
       "                                         min                  25%  \\\n",
       "Unit price                             10.08               32.875   \n",
       "Quantity                                 1.0                  3.0   \n",
       "Tax 5%                                0.5085             5.924875   \n",
       "Total                                10.6785           124.422375   \n",
       "Date                     2019-01-01 00:00:00  2019-01-24 00:00:00   \n",
       "cogs                                   10.17             118.4975   \n",
       "gross margin percentage             4.761905             4.761905   \n",
       "gross income                          0.5085             5.924875   \n",
       "Rating                                   4.0                  5.5   \n",
       "Year                                  2019.0               2019.0   \n",
       "Month                                    1.0                  1.0   \n",
       "Quarter                                  1.0                  1.0   \n",
       "Day                                      1.0                  8.0   \n",
       "Hour                                    10.0                 12.0   \n",
       "Weekday                                  0.0                  1.0   \n",
       "\n",
       "                                         50%                  75%  \\\n",
       "Unit price                             55.23               77.935   \n",
       "Quantity                                 5.0                  8.0   \n",
       "Tax 5%                                12.088             22.44525   \n",
       "Total                                253.848            471.35025   \n",
       "Date                     2019-02-13 00:00:00  2019-03-08 00:00:00   \n",
       "cogs                                  241.76              448.905   \n",
       "gross margin percentage             4.761905             4.761905   \n",
       "gross income                          12.088             22.44525   \n",
       "Rating                                   7.0                  8.5   \n",
       "Year                                  2019.0               2019.0   \n",
       "Month                                    2.0                  3.0   \n",
       "Quarter                                  1.0                  1.0   \n",
       "Day                                     15.0                 23.0   \n",
       "Hour                                    15.0                 18.0   \n",
       "Weekday                                  3.0                  5.0   \n",
       "\n",
       "                                         max         std  \n",
       "Unit price                             99.96   26.494628  \n",
       "Quantity                                10.0    2.923431  \n",
       "Tax 5%                                 49.65   11.708825  \n",
       "Total                                1042.65  245.885335  \n",
       "Date                     2019-03-30 00:00:00         NaN  \n",
       "cogs                                   993.0   234.17651  \n",
       "gross margin percentage             4.761905         0.0  \n",
       "gross income                           49.65   11.708825  \n",
       "Rating                                  10.0     1.71858  \n",
       "Year                                  2019.0         0.0  \n",
       "Month                                    3.0    0.835254  \n",
       "Quarter                                  1.0         0.0  \n",
       "Day                                     31.0    8.693563  \n",
       "Hour                                    20.0    3.186857  \n",
       "Weekday                                  6.0    1.973543  "
      ]
     },
     "execution_count": 101,
     "metadata": {},
     "output_type": "execute_result"
    }
   ],
   "source": [
    "df.describe().T"
   ]
  },
  {
   "cell_type": "code",
   "execution_count": 102,
   "id": "387eeec8-cff5-4437-8e33-08a8b2efe00a",
   "metadata": {},
   "outputs": [
    {
     "data": {
      "text/html": [
       "<div>\n",
       "<style scoped>\n",
       "    .dataframe tbody tr th:only-of-type {\n",
       "        vertical-align: middle;\n",
       "    }\n",
       "\n",
       "    .dataframe tbody tr th {\n",
       "        vertical-align: top;\n",
       "    }\n",
       "\n",
       "    .dataframe thead tr th {\n",
       "        text-align: left;\n",
       "    }\n",
       "\n",
       "    .dataframe thead tr:last-of-type th {\n",
       "        text-align: right;\n",
       "    }\n",
       "</style>\n",
       "<table border=\"1\" class=\"dataframe\">\n",
       "  <thead>\n",
       "    <tr>\n",
       "      <th></th>\n",
       "      <th colspan=\"8\" halign=\"left\">sum</th>\n",
       "      <th colspan=\"8\" halign=\"left\">mean</th>\n",
       "    </tr>\n",
       "    <tr>\n",
       "      <th></th>\n",
       "      <th colspan=\"4\" halign=\"left\">Rating</th>\n",
       "      <th colspan=\"4\" halign=\"left\">Total</th>\n",
       "      <th colspan=\"4\" halign=\"left\">Rating</th>\n",
       "      <th colspan=\"4\" halign=\"left\">Total</th>\n",
       "    </tr>\n",
       "    <tr>\n",
       "      <th>Gender</th>\n",
       "      <th colspan=\"2\" halign=\"left\">Female</th>\n",
       "      <th colspan=\"2\" halign=\"left\">Male</th>\n",
       "      <th colspan=\"2\" halign=\"left\">Female</th>\n",
       "      <th colspan=\"2\" halign=\"left\">Male</th>\n",
       "      <th colspan=\"2\" halign=\"left\">Female</th>\n",
       "      <th colspan=\"2\" halign=\"left\">Male</th>\n",
       "      <th colspan=\"2\" halign=\"left\">Female</th>\n",
       "      <th colspan=\"2\" halign=\"left\">Male</th>\n",
       "    </tr>\n",
       "    <tr>\n",
       "      <th>Customer type</th>\n",
       "      <th>Member</th>\n",
       "      <th>Normal</th>\n",
       "      <th>Member</th>\n",
       "      <th>Normal</th>\n",
       "      <th>Member</th>\n",
       "      <th>Normal</th>\n",
       "      <th>Member</th>\n",
       "      <th>Normal</th>\n",
       "      <th>Member</th>\n",
       "      <th>Normal</th>\n",
       "      <th>Member</th>\n",
       "      <th>Normal</th>\n",
       "      <th>Member</th>\n",
       "      <th>Normal</th>\n",
       "      <th>Member</th>\n",
       "      <th>Normal</th>\n",
       "    </tr>\n",
       "    <tr>\n",
       "      <th>Product line</th>\n",
       "      <th></th>\n",
       "      <th></th>\n",
       "      <th></th>\n",
       "      <th></th>\n",
       "      <th></th>\n",
       "      <th></th>\n",
       "      <th></th>\n",
       "      <th></th>\n",
       "      <th></th>\n",
       "      <th></th>\n",
       "      <th></th>\n",
       "      <th></th>\n",
       "      <th></th>\n",
       "      <th></th>\n",
       "      <th></th>\n",
       "      <th></th>\n",
       "    </tr>\n",
       "  </thead>\n",
       "  <tbody>\n",
       "    <tr>\n",
       "      <th>Electronic accessories</th>\n",
       "      <td>236.4</td>\n",
       "      <td>333.7</td>\n",
       "      <td>305.7</td>\n",
       "      <td>301.4</td>\n",
       "      <td>11153.5515</td>\n",
       "      <td>15948.4710</td>\n",
       "      <td>13344.9435</td>\n",
       "      <td>13890.5655</td>\n",
       "      <td>6.754286</td>\n",
       "      <td>6.810204</td>\n",
       "      <td>7.109302</td>\n",
       "      <td>7.009302</td>\n",
       "      <td>318.672900</td>\n",
       "      <td>325.479000</td>\n",
       "      <td>310.347523</td>\n",
       "      <td>323.036407</td>\n",
       "    </tr>\n",
       "    <tr>\n",
       "      <th>Fashion accessories</th>\n",
       "      <td>333.6</td>\n",
       "      <td>350.0</td>\n",
       "      <td>263.8</td>\n",
       "      <td>303.8</td>\n",
       "      <td>15122.6565</td>\n",
       "      <td>15314.7435</td>\n",
       "      <td>11201.3055</td>\n",
       "      <td>12667.1895</td>\n",
       "      <td>7.097872</td>\n",
       "      <td>7.142857</td>\n",
       "      <td>6.764103</td>\n",
       "      <td>7.065116</td>\n",
       "      <td>321.758649</td>\n",
       "      <td>312.545786</td>\n",
       "      <td>287.212962</td>\n",
       "      <td>294.585802</td>\n",
       "    </tr>\n",
       "    <tr>\n",
       "      <th>Food and beverages</th>\n",
       "      <td>356.6</td>\n",
       "      <td>291.7</td>\n",
       "      <td>301.1</td>\n",
       "      <td>288.3</td>\n",
       "      <td>19598.8065</td>\n",
       "      <td>13572.1110</td>\n",
       "      <td>11758.8135</td>\n",
       "      <td>11215.1130</td>\n",
       "      <td>6.992157</td>\n",
       "      <td>7.479487</td>\n",
       "      <td>7.002326</td>\n",
       "      <td>7.031707</td>\n",
       "      <td>384.290324</td>\n",
       "      <td>348.002846</td>\n",
       "      <td>273.460779</td>\n",
       "      <td>273.539341</td>\n",
       "    </tr>\n",
       "    <tr>\n",
       "      <th>Health and beauty</th>\n",
       "      <td>215.0</td>\n",
       "      <td>242.4</td>\n",
       "      <td>301.7</td>\n",
       "      <td>305.4</td>\n",
       "      <td>8379.3885</td>\n",
       "      <td>10181.5980</td>\n",
       "      <td>17451.6510</td>\n",
       "      <td>13181.1015</td>\n",
       "      <td>7.166667</td>\n",
       "      <td>7.129412</td>\n",
       "      <td>7.016279</td>\n",
       "      <td>6.786667</td>\n",
       "      <td>279.312950</td>\n",
       "      <td>299.458765</td>\n",
       "      <td>405.852349</td>\n",
       "      <td>292.913367</td>\n",
       "    </tr>\n",
       "    <tr>\n",
       "      <th>Home and lifestyle</th>\n",
       "      <td>331.5</td>\n",
       "      <td>202.8</td>\n",
       "      <td>238.6</td>\n",
       "      <td>321.1</td>\n",
       "      <td>17234.3220</td>\n",
       "      <td>12802.5555</td>\n",
       "      <td>10743.7050</td>\n",
       "      <td>13081.3305</td>\n",
       "      <td>7.053191</td>\n",
       "      <td>6.337500</td>\n",
       "      <td>6.627778</td>\n",
       "      <td>7.135556</td>\n",
       "      <td>366.687702</td>\n",
       "      <td>400.079859</td>\n",
       "      <td>298.436250</td>\n",
       "      <td>290.696233</td>\n",
       "    </tr>\n",
       "    <tr>\n",
       "      <th>Sports and travel</th>\n",
       "      <td>338.4</td>\n",
       "      <td>257.1</td>\n",
       "      <td>254.7</td>\n",
       "      <td>297.9</td>\n",
       "      <td>16658.2185</td>\n",
       "      <td>11916.5025</td>\n",
       "      <td>11576.0820</td>\n",
       "      <td>14972.0235</td>\n",
       "      <td>6.635294</td>\n",
       "      <td>6.948649</td>\n",
       "      <td>7.075000</td>\n",
       "      <td>7.092857</td>\n",
       "      <td>326.631735</td>\n",
       "      <td>322.067635</td>\n",
       "      <td>321.557833</td>\n",
       "      <td>356.476750</td>\n",
       "    </tr>\n",
       "  </tbody>\n",
       "</table>\n",
       "</div>"
      ],
      "text/plain": [
       "                          sum                                               \\\n",
       "                       Rating                            Total               \n",
       "Gender                 Female          Male             Female               \n",
       "Customer type          Member Normal Member Normal      Member      Normal   \n",
       "Product line                                                                 \n",
       "Electronic accessories  236.4  333.7  305.7  301.4  11153.5515  15948.4710   \n",
       "Fashion accessories     333.6  350.0  263.8  303.8  15122.6565  15314.7435   \n",
       "Food and beverages      356.6  291.7  301.1  288.3  19598.8065  13572.1110   \n",
       "Health and beauty       215.0  242.4  301.7  305.4   8379.3885  10181.5980   \n",
       "Home and lifestyle      331.5  202.8  238.6  321.1  17234.3220  12802.5555   \n",
       "Sports and travel       338.4  257.1  254.7  297.9  16658.2185  11916.5025   \n",
       "\n",
       "                                                    mean                      \\\n",
       "                                                  Rating                       \n",
       "Gender                        Male                Female                Male   \n",
       "Customer type               Member      Normal    Member    Normal    Member   \n",
       "Product line                                                                   \n",
       "Electronic accessories  13344.9435  13890.5655  6.754286  6.810204  7.109302   \n",
       "Fashion accessories     11201.3055  12667.1895  7.097872  7.142857  6.764103   \n",
       "Food and beverages      11758.8135  11215.1130  6.992157  7.479487  7.002326   \n",
       "Health and beauty       17451.6510  13181.1015  7.166667  7.129412  7.016279   \n",
       "Home and lifestyle      10743.7050  13081.3305  7.053191  6.337500  6.627778   \n",
       "Sports and travel       11576.0820  14972.0235  6.635294  6.948649  7.075000   \n",
       "\n",
       "                                                                      \\\n",
       "                                       Total                           \n",
       "Gender                                Female                    Male   \n",
       "Customer type             Normal      Member      Normal      Member   \n",
       "Product line                                                           \n",
       "Electronic accessories  7.009302  318.672900  325.479000  310.347523   \n",
       "Fashion accessories     7.065116  321.758649  312.545786  287.212962   \n",
       "Food and beverages      7.031707  384.290324  348.002846  273.460779   \n",
       "Health and beauty       6.786667  279.312950  299.458765  405.852349   \n",
       "Home and lifestyle      7.135556  366.687702  400.079859  298.436250   \n",
       "Sports and travel       7.092857  326.631735  322.067635  321.557833   \n",
       "\n",
       "                                    \n",
       "                                    \n",
       "Gender                              \n",
       "Customer type               Normal  \n",
       "Product line                        \n",
       "Electronic accessories  323.036407  \n",
       "Fashion accessories     294.585802  \n",
       "Food and beverages      273.539341  \n",
       "Health and beauty       292.913367  \n",
       "Home and lifestyle      290.696233  \n",
       "Sports and travel       356.476750  "
      ]
     },
     "execution_count": 102,
     "metadata": {},
     "output_type": "execute_result"
    }
   ],
   "source": [
    "pt=pd.pivot_table(data=df,index=['Product line'],\n",
    "                  columns=['Gender','Customer type'],values=['Total','Rating'],\n",
    "                  aggfunc=['sum','mean'])\n",
    "pt"
   ]
  },
  {
   "cell_type": "code",
   "execution_count": null,
   "id": "199109af-ba08-4e81-8de9-b9d800b20d45",
   "metadata": {},
   "outputs": [],
   "source": []
  },
  {
   "cell_type": "code",
   "execution_count": null,
   "id": "0d3cb1ac-369f-415a-84eb-4af3676ec6eb",
   "metadata": {},
   "outputs": [],
   "source": []
  },
  {
   "cell_type": "code",
   "execution_count": 103,
   "id": "2ce61680-8e46-43da-bc6c-8a50c3fc631e",
   "metadata": {},
   "outputs": [],
   "source": [
    "#df.to_csv(\"Suparmarket_data\")"
   ]
  },
  {
   "cell_type": "code",
   "execution_count": null,
   "id": "2a5295cf-6fad-4e38-9a26-ea54ec0e57f3",
   "metadata": {},
   "outputs": [],
   "source": []
  },
  {
   "cell_type": "code",
   "execution_count": null,
   "id": "1946a4e1-9d03-4f9e-ad30-6bd810e2c234",
   "metadata": {},
   "outputs": [],
   "source": []
  },
  {
   "cell_type": "code",
   "execution_count": null,
   "id": "fc6082be-ac71-499e-be32-d13771bad058",
   "metadata": {},
   "outputs": [],
   "source": []
  },
  {
   "cell_type": "code",
   "execution_count": null,
   "id": "6da47806-9a97-46ea-ba82-6ec45ced24af",
   "metadata": {},
   "outputs": [],
   "source": []
  },
  {
   "cell_type": "code",
   "execution_count": null,
   "id": "76cabfa9-dd4f-4029-bed2-7fe60d44e5dd",
   "metadata": {},
   "outputs": [],
   "source": []
  },
  {
   "cell_type": "code",
   "execution_count": null,
   "id": "986845e1-804f-4f33-9896-c5f590f294ec",
   "metadata": {},
   "outputs": [],
   "source": []
  },
  {
   "cell_type": "code",
   "execution_count": null,
   "id": "4a772580-cacc-4bed-8239-bfb6a4b81287",
   "metadata": {},
   "outputs": [],
   "source": []
  },
  {
   "cell_type": "code",
   "execution_count": null,
   "id": "0cc5542f-b034-41ac-bb50-2f20a1dc9ad3",
   "metadata": {},
   "outputs": [],
   "source": []
  }
 ],
 "metadata": {
  "kernelspec": {
   "display_name": "Python 3 (ipykernel)",
   "language": "python",
   "name": "python3"
  },
  "language_info": {
   "codemirror_mode": {
    "name": "ipython",
    "version": 3
   },
   "file_extension": ".py",
   "mimetype": "text/x-python",
   "name": "python",
   "nbconvert_exporter": "python",
   "pygments_lexer": "ipython3",
   "version": "3.11.7"
  }
 },
 "nbformat": 4,
 "nbformat_minor": 5
}
